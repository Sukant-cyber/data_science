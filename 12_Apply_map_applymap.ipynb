{
 "cells": [
  {
   "cell_type": "code",
   "execution_count": 1,
   "id": "395b267d",
   "metadata": {},
   "outputs": [],
   "source": [
    "import pandas as pd"
   ]
  },
  {
   "cell_type": "code",
   "execution_count": 2,
   "id": "55003724",
   "metadata": {},
   "outputs": [],
   "source": [
    "titanic=pd.read_csv('data/titanic.csv')\n",
    "titanic['age']=titanic['age'].replace(['?'],[None]).astype('float')\n",
    "titanic['fare']=titanic['fare'].replace(['?'],[None]).astype('float')"
   ]
  },
  {
   "cell_type": "code",
   "execution_count": 3,
   "id": "91514133",
   "metadata": {},
   "outputs": [
    {
     "name": "stdout",
     "output_type": "stream",
     "text": [
      "<class 'pandas.core.frame.DataFrame'>\n",
      "RangeIndex: 1309 entries, 0 to 1308\n",
      "Data columns (total 14 columns):\n",
      " #   Column     Non-Null Count  Dtype  \n",
      "---  ------     --------------  -----  \n",
      " 0   pclass     1309 non-null   int64  \n",
      " 1   survived   1309 non-null   int64  \n",
      " 2   name       1309 non-null   object \n",
      " 3   sex        1309 non-null   object \n",
      " 4   age        1046 non-null   float64\n",
      " 5   sibsp      1309 non-null   int64  \n",
      " 6   parch      1309 non-null   int64  \n",
      " 7   ticket     1309 non-null   object \n",
      " 8   fare       1308 non-null   float64\n",
      " 9   cabin      1309 non-null   object \n",
      " 10  embarked   1309 non-null   object \n",
      " 11  boat       1309 non-null   object \n",
      " 12  body       1309 non-null   object \n",
      " 13  home.dest  1309 non-null   object \n",
      "dtypes: float64(2), int64(4), object(8)\n",
      "memory usage: 143.3+ KB\n"
     ]
    }
   ],
   "source": [
    "titanic.info()"
   ]
  },
  {
   "cell_type": "code",
   "execution_count": 4,
   "id": "0154a654",
   "metadata": {},
   "outputs": [
    {
     "data": {
      "text/plain": [
       "0       10585.0000\n",
       "1         334.5955\n",
       "2         730.0000\n",
       "3       10950.0000\n",
       "4        9125.0000\n",
       "           ...    \n",
       "1304     5292.5000\n",
       "1305           NaN\n",
       "1306     9672.5000\n",
       "1307     9855.0000\n",
       "1308    10585.0000\n",
       "Name: age, Length: 1309, dtype: float64"
      ]
     },
     "execution_count": 4,
     "metadata": {},
     "output_type": "execute_result"
    }
   ],
   "source": [
    "def yr_to_days(yrs):\n",
    "    return yrs*365\n",
    "titanic['age'].apply(yr_to_days)"
   ]
  },
  {
   "cell_type": "code",
   "execution_count": 5,
   "id": "d6cc8fd5",
   "metadata": {},
   "outputs": [
    {
     "data": {
      "text/plain": [
       "0       10585.0000\n",
       "1         334.5955\n",
       "2         730.0000\n",
       "3       10950.0000\n",
       "4        9125.0000\n",
       "           ...    \n",
       "1304     5292.5000\n",
       "1305           NaN\n",
       "1306     9672.5000\n",
       "1307     9855.0000\n",
       "1308    10585.0000\n",
       "Name: age, Length: 1309, dtype: float64"
      ]
     },
     "execution_count": 5,
     "metadata": {},
     "output_type": "execute_result"
    }
   ],
   "source": [
    "titanic['age']*365"
   ]
  },
  {
   "cell_type": "code",
   "execution_count": 6,
   "id": "83ee3747",
   "metadata": {},
   "outputs": [
    {
     "data": {
      "text/plain": [
       "0       29.0000\n",
       "1        0.9167\n",
       "2        2.0000\n",
       "3       30.0000\n",
       "4       25.0000\n",
       "         ...   \n",
       "1304    14.5000\n",
       "1305        NaN\n",
       "1306    26.5000\n",
       "1307    27.0000\n",
       "1308    29.0000\n",
       "Name: age, Length: 1309, dtype: float64"
      ]
     },
     "execution_count": 6,
     "metadata": {},
     "output_type": "execute_result"
    }
   ],
   "source": [
    "titanic['age']"
   ]
  },
  {
   "cell_type": "code",
   "execution_count": 7,
   "id": "90964c1a",
   "metadata": {},
   "outputs": [],
   "source": [
    "def get_age_grp(yrs):\n",
    "    if yrs<=2:\n",
    "        return \"Infant\"\n",
    "    elif yrs<=18:\n",
    "        return \"Teen\"\n",
    "    elif yrs<60:\n",
    "        return \"Adult\"\n",
    "    else:\n",
    "        return \"Senior\"\n",
    "titanic['age_grp']=titanic['age'].apply(get_age_grp)"
   ]
  },
  {
   "cell_type": "code",
   "execution_count": 8,
   "id": "ecab93a8",
   "metadata": {},
   "outputs": [
    {
     "data": {
      "text/plain": [
       "age_grp  sex   \n",
       "Adult    female    0.771930\n",
       "         male      0.189394\n",
       "Infant   female    0.625000\n",
       "         male      0.611111\n",
       "Senior   female    0.629213\n",
       "         male      0.135514\n",
       "Teen     female    0.697368\n",
       "         male      0.253012\n",
       "Name: survived, dtype: float64"
      ]
     },
     "execution_count": 8,
     "metadata": {},
     "output_type": "execute_result"
    }
   ],
   "source": [
    "titanic.groupby(['age_grp','sex'])['survived'].mean()"
   ]
  },
  {
   "cell_type": "code",
   "execution_count": 9,
   "id": "e1e93180",
   "metadata": {},
   "outputs": [
    {
     "data": {
      "text/plain": [
       "<AxesSubplot:xlabel='age_grp'>"
      ]
     },
     "execution_count": 9,
     "metadata": {},
     "output_type": "execute_result"
    },
    {
     "data": {
      "image/png": "[encoded data removed]",
      "text/plain": [
       "<Figure size 640x480 with 1 Axes>"
      ]
     },
     "metadata": {},
     "output_type": "display_data"
    }
   ],
   "source": [
    "titanic.groupby(['age_grp','sex'])['survived'].mean().unstack().plot(kind='bar')"
   ]
  },
  {
   "cell_type": "code",
   "execution_count": 10,
   "id": "4a900be7",
   "metadata": {},
   "outputs": [
    {
     "data": {
      "text/plain": [
       "0                   $5072.1\n",
       "1       $3637.2000000000003\n",
       "2       $3637.2000000000003\n",
       "3       $3637.2000000000003\n",
       "4       $3637.2000000000003\n",
       "               ...         \n",
       "1304              $346.9008\n",
       "1305              $346.9008\n",
       "1306    $173.39999999999998\n",
       "1307    $173.39999999999998\n",
       "1308                 $189.0\n",
       "Name: fare, Length: 1309, dtype: object"
      ]
     },
     "execution_count": 10,
     "metadata": {},
     "output_type": "execute_result"
    }
   ],
   "source": [
    "titanic['fare'].apply(lambda x:f\"${x*24}\")"
   ]
  },
  {
   "cell_type": "code",
   "execution_count": 11,
   "id": "9f1fe870",
   "metadata": {},
   "outputs": [
    {
     "data": {
      "text/plain": [
       "0                   $5072.1\n",
       "1       $3637.2000000000003\n",
       "2       $3637.2000000000003\n",
       "3       $3637.2000000000003\n",
       "4       $3637.2000000000003\n",
       "               ...         \n",
       "1304              $346.9008\n",
       "1305              $346.9008\n",
       "1306    $173.39999999999998\n",
       "1307    $173.39999999999998\n",
       "1308                 $189.0\n",
       "Name: fare, Length: 1309, dtype: object"
      ]
     },
     "execution_count": 11,
     "metadata": {},
     "output_type": "execute_result"
    }
   ],
   "source": [
    "def current_value(nums,multiplier):\n",
    "    return f'${nums*multiplier}'\n",
    "titanic['fare'].apply(current_value, args=(24,))"
   ]
  },
  {
   "cell_type": "code",
   "execution_count": 12,
   "id": "04b7a3b3",
   "metadata": {},
   "outputs": [],
   "source": [
    "df=titanic[['age','survived','pclass','fare']]"
   ]
  },
  {
   "cell_type": "code",
   "execution_count": 13,
   "id": "e8402cf9",
   "metadata": {},
   "outputs": [
    {
     "data": {
      "text/html": [
       "<div>\n",
       "<style scoped>\n",
       "    .dataframe tbody tr th:only-of-type {\n",
       "        vertical-align: middle;\n",
       "    }\n",
       "\n",
       "    .dataframe tbody tr th {\n",
       "        vertical-align: top;\n",
       "    }\n",
       "\n",
       "    .dataframe thead th {\n",
       "        text-align: right;\n",
       "    }\n",
       "</style>\n",
       "<table border=\"1\" class=\"dataframe\">\n",
       "  <thead>\n",
       "    <tr style=\"text-align: right;\">\n",
       "      <th></th>\n",
       "      <th>age</th>\n",
       "      <th>survived</th>\n",
       "      <th>pclass</th>\n",
       "      <th>fare</th>\n",
       "    </tr>\n",
       "  </thead>\n",
       "  <tbody>\n",
       "    <tr>\n",
       "      <th>0</th>\n",
       "      <td>29.0000</td>\n",
       "      <td>1</td>\n",
       "      <td>1</td>\n",
       "      <td>211.3375</td>\n",
       "    </tr>\n",
       "    <tr>\n",
       "      <th>1</th>\n",
       "      <td>0.9167</td>\n",
       "      <td>1</td>\n",
       "      <td>1</td>\n",
       "      <td>151.5500</td>\n",
       "    </tr>\n",
       "    <tr>\n",
       "      <th>2</th>\n",
       "      <td>2.0000</td>\n",
       "      <td>0</td>\n",
       "      <td>1</td>\n",
       "      <td>151.5500</td>\n",
       "    </tr>\n",
       "    <tr>\n",
       "      <th>3</th>\n",
       "      <td>30.0000</td>\n",
       "      <td>0</td>\n",
       "      <td>1</td>\n",
       "      <td>151.5500</td>\n",
       "    </tr>\n",
       "    <tr>\n",
       "      <th>4</th>\n",
       "      <td>25.0000</td>\n",
       "      <td>0</td>\n",
       "      <td>1</td>\n",
       "      <td>151.5500</td>\n",
       "    </tr>\n",
       "    <tr>\n",
       "      <th>...</th>\n",
       "      <td>...</td>\n",
       "      <td>...</td>\n",
       "      <td>...</td>\n",
       "      <td>...</td>\n",
       "    </tr>\n",
       "    <tr>\n",
       "      <th>1304</th>\n",
       "      <td>14.5000</td>\n",
       "      <td>0</td>\n",
       "      <td>3</td>\n",
       "      <td>14.4542</td>\n",
       "    </tr>\n",
       "    <tr>\n",
       "      <th>1305</th>\n",
       "      <td>NaN</td>\n",
       "      <td>0</td>\n",
       "      <td>3</td>\n",
       "      <td>14.4542</td>\n",
       "    </tr>\n",
       "    <tr>\n",
       "      <th>1306</th>\n",
       "      <td>26.5000</td>\n",
       "      <td>0</td>\n",
       "      <td>3</td>\n",
       "      <td>7.2250</td>\n",
       "    </tr>\n",
       "    <tr>\n",
       "      <th>1307</th>\n",
       "      <td>27.0000</td>\n",
       "      <td>0</td>\n",
       "      <td>3</td>\n",
       "      <td>7.2250</td>\n",
       "    </tr>\n",
       "    <tr>\n",
       "      <th>1308</th>\n",
       "      <td>29.0000</td>\n",
       "      <td>0</td>\n",
       "      <td>3</td>\n",
       "      <td>7.8750</td>\n",
       "    </tr>\n",
       "  </tbody>\n",
       "</table>\n",
       "<p>1309 rows × 4 columns</p>\n",
       "</div>"
      ],
      "text/plain": [
       "          age  survived  pclass      fare\n",
       "0     29.0000         1       1  211.3375\n",
       "1      0.9167         1       1  151.5500\n",
       "2      2.0000         0       1  151.5500\n",
       "3     30.0000         0       1  151.5500\n",
       "4     25.0000         0       1  151.5500\n",
       "...       ...       ...     ...       ...\n",
       "1304  14.5000         0       3   14.4542\n",
       "1305      NaN         0       3   14.4542\n",
       "1306  26.5000         0       3    7.2250\n",
       "1307  27.0000         0       3    7.2250\n",
       "1308  29.0000         0       3    7.8750\n",
       "\n",
       "[1309 rows x 4 columns]"
      ]
     },
     "execution_count": 13,
     "metadata": {},
     "output_type": "execute_result"
    }
   ],
   "source": [
    "df"
   ]
  },
  {
   "cell_type": "code",
   "execution_count": 14,
   "id": "53e2c228",
   "metadata": {},
   "outputs": [
    {
     "data": {
      "text/plain": [
       "age          79.8333\n",
       "survived      1.0000\n",
       "pclass        2.0000\n",
       "fare        512.3292\n",
       "dtype: float64"
      ]
     },
     "execution_count": 14,
     "metadata": {},
     "output_type": "execute_result"
    }
   ],
   "source": [
    "def get_range(s):\n",
    "    return s.max() - s.min()\n",
    "df.apply(get_range)"
   ]
  },
  {
   "cell_type": "code",
   "execution_count": 15,
   "id": "7a5195a6",
   "metadata": {},
   "outputs": [
    {
     "data": {
      "text/plain": [
       "0       210.3375\n",
       "1       150.6333\n",
       "2       151.5500\n",
       "3       151.5500\n",
       "4       151.5500\n",
       "          ...   \n",
       "1304     14.5000\n",
       "1305     14.4542\n",
       "1306     26.5000\n",
       "1307     27.0000\n",
       "1308     29.0000\n",
       "Length: 1309, dtype: float64"
      ]
     },
     "execution_count": 15,
     "metadata": {},
     "output_type": "execute_result"
    }
   ],
   "source": [
    "def get_range(s):\n",
    "    return s.max() - s.min()\n",
    "df.apply(get_range, axis=1)"
   ]
  },
  {
   "cell_type": "code",
   "execution_count": 16,
   "id": "02abb16d",
   "metadata": {},
   "outputs": [
    {
     "data": {
      "text/html": [
       "<div>\n",
       "<style scoped>\n",
       "    .dataframe tbody tr th:only-of-type {\n",
       "        vertical-align: middle;\n",
       "    }\n",
       "\n",
       "    .dataframe tbody tr th {\n",
       "        vertical-align: top;\n",
       "    }\n",
       "\n",
       "    .dataframe thead th {\n",
       "        text-align: right;\n",
       "    }\n",
       "</style>\n",
       "<table border=\"1\" class=\"dataframe\">\n",
       "  <thead>\n",
       "    <tr style=\"text-align: right;\">\n",
       "      <th></th>\n",
       "      <th>age</th>\n",
       "      <th>survived</th>\n",
       "      <th>pclass</th>\n",
       "      <th>fare</th>\n",
       "    </tr>\n",
       "  </thead>\n",
       "  <tbody>\n",
       "    <tr>\n",
       "      <th>0</th>\n",
       "      <td>29.0000</td>\n",
       "      <td>1</td>\n",
       "      <td>1</td>\n",
       "      <td>211.3375</td>\n",
       "    </tr>\n",
       "    <tr>\n",
       "      <th>1</th>\n",
       "      <td>0.9167</td>\n",
       "      <td>1</td>\n",
       "      <td>1</td>\n",
       "      <td>151.5500</td>\n",
       "    </tr>\n",
       "    <tr>\n",
       "      <th>2</th>\n",
       "      <td>2.0000</td>\n",
       "      <td>0</td>\n",
       "      <td>1</td>\n",
       "      <td>151.5500</td>\n",
       "    </tr>\n",
       "    <tr>\n",
       "      <th>3</th>\n",
       "      <td>30.0000</td>\n",
       "      <td>0</td>\n",
       "      <td>1</td>\n",
       "      <td>151.5500</td>\n",
       "    </tr>\n",
       "    <tr>\n",
       "      <th>4</th>\n",
       "      <td>25.0000</td>\n",
       "      <td>0</td>\n",
       "      <td>1</td>\n",
       "      <td>151.5500</td>\n",
       "    </tr>\n",
       "    <tr>\n",
       "      <th>...</th>\n",
       "      <td>...</td>\n",
       "      <td>...</td>\n",
       "      <td>...</td>\n",
       "      <td>...</td>\n",
       "    </tr>\n",
       "    <tr>\n",
       "      <th>1304</th>\n",
       "      <td>14.5000</td>\n",
       "      <td>0</td>\n",
       "      <td>3</td>\n",
       "      <td>14.4542</td>\n",
       "    </tr>\n",
       "    <tr>\n",
       "      <th>1305</th>\n",
       "      <td>NaN</td>\n",
       "      <td>0</td>\n",
       "      <td>3</td>\n",
       "      <td>14.4542</td>\n",
       "    </tr>\n",
       "    <tr>\n",
       "      <th>1306</th>\n",
       "      <td>26.5000</td>\n",
       "      <td>0</td>\n",
       "      <td>3</td>\n",
       "      <td>7.2250</td>\n",
       "    </tr>\n",
       "    <tr>\n",
       "      <th>1307</th>\n",
       "      <td>27.0000</td>\n",
       "      <td>0</td>\n",
       "      <td>3</td>\n",
       "      <td>7.2250</td>\n",
       "    </tr>\n",
       "    <tr>\n",
       "      <th>1308</th>\n",
       "      <td>29.0000</td>\n",
       "      <td>0</td>\n",
       "      <td>3</td>\n",
       "      <td>7.8750</td>\n",
       "    </tr>\n",
       "  </tbody>\n",
       "</table>\n",
       "<p>1309 rows × 4 columns</p>\n",
       "</div>"
      ],
      "text/plain": [
       "          age  survived  pclass      fare\n",
       "0     29.0000         1       1  211.3375\n",
       "1      0.9167         1       1  151.5500\n",
       "2      2.0000         0       1  151.5500\n",
       "3     30.0000         0       1  151.5500\n",
       "4     25.0000         0       1  151.5500\n",
       "...       ...       ...     ...       ...\n",
       "1304  14.5000         0       3   14.4542\n",
       "1305      NaN         0       3   14.4542\n",
       "1306  26.5000         0       3    7.2250\n",
       "1307  27.0000         0       3    7.2250\n",
       "1308  29.0000         0       3    7.8750\n",
       "\n",
       "[1309 rows x 4 columns]"
      ]
     },
     "execution_count": 16,
     "metadata": {},
     "output_type": "execute_result"
    }
   ],
   "source": [
    "df"
   ]
  },
  {
   "cell_type": "code",
   "execution_count": 17,
   "id": "ed851099",
   "metadata": {},
   "outputs": [
    {
     "data": {
      "text/plain": [
       "0                 Solo\n",
       "1       Average Family\n",
       "2       Average Family\n",
       "3       Average Family\n",
       "4       Average Family\n",
       "             ...      \n",
       "1304    Average Family\n",
       "1305    Average Family\n",
       "1306              Solo\n",
       "1307              Solo\n",
       "1308              Solo\n",
       "Length: 1309, dtype: object"
      ]
     },
     "execution_count": 17,
     "metadata": {},
     "output_type": "execute_result"
    }
   ],
   "source": [
    "def fam_size(s):\n",
    "    nums = s.sibsp + s.parch\n",
    "    if nums==0:\n",
    "        return \"Solo\"\n",
    "    elif nums<5:\n",
    "        return \"Average Family\"\n",
    "    else:\n",
    "        return \"Large Family\"\n",
    "titanic.apply(fam_size, axis=1)"
   ]
  },
  {
   "cell_type": "code",
   "execution_count": 18,
   "id": "199ad96a",
   "metadata": {},
   "outputs": [],
   "source": [
    "titanic['fam_size']=titanic.apply(fam_size, axis=1)"
   ]
  },
  {
   "cell_type": "code",
   "execution_count": 19,
   "id": "82c65595",
   "metadata": {},
   "outputs": [
    {
     "data": {
      "text/plain": [
       "fam_size\n",
       "Average Family    28.877258\n",
       "Large Family      18.790000\n",
       "Solo              31.511864\n",
       "Name: age, dtype: float64"
      ]
     },
     "execution_count": 19,
     "metadata": {},
     "output_type": "execute_result"
    }
   ],
   "source": [
    "titanic.groupby(['fam_size'])['age'].mean()"
   ]
  },
  {
   "cell_type": "code",
   "execution_count": 20,
   "id": "3e4f415a",
   "metadata": {},
   "outputs": [
    {
     "data": {
      "text/plain": [
       "Solo              790\n",
       "Average Family    459\n",
       "Large Family       60\n",
       "Name: fam_size, dtype: int64"
      ]
     },
     "execution_count": 20,
     "metadata": {},
     "output_type": "execute_result"
    }
   ],
   "source": [
    "titanic['fam_size'].value_counts()"
   ]
  },
  {
   "cell_type": "code",
   "execution_count": 21,
   "id": "7a13149b",
   "metadata": {},
   "outputs": [
    {
     "data": {
      "text/plain": [
       "0       1\n",
       "1st     1\n",
       "2       1\n",
       "3       1\n",
       "4       1\n",
       "       ..\n",
       "1304    3\n",
       "1305    3\n",
       "1306    3\n",
       "1307    3\n",
       "1308    3\n",
       "Name: pclass, Length: 1309, dtype: int64"
      ]
     },
     "execution_count": 21,
     "metadata": {},
     "output_type": "execute_result"
    }
   ],
   "source": [
    "titanic['pclass'].rename({1:\"1st\"})"
   ]
  },
  {
   "cell_type": "code",
   "execution_count": 22,
   "id": "9feaab32",
   "metadata": {},
   "outputs": [
    {
     "data": {
      "text/plain": [
       "<AxesSubplot:ylabel='pclass'>"
      ]
     },
     "execution_count": 22,
     "metadata": {},
     "output_type": "execute_result"
    },
    {
     "data": {
      "image/png": "[encoded data removed]",
      "text/plain": [
       "<Figure size 640x480 with 1 Axes>"
      ]
     },
     "metadata": {},
     "output_type": "display_data"
    }
   ],
   "source": [
    "titanic['pclass'].map({1:\"1st\",2:\"2nd\",3:\"3rd\"}).value_counts().plot(kind='pie', explode=(0,0.1,0))"
   ]
  },
  {
   "cell_type": "code",
   "execution_count": 23,
   "id": "0f08522c",
   "metadata": {},
   "outputs": [
    {
     "data": {
      "text/html": [
       "<div>\n",
       "<style scoped>\n",
       "    .dataframe tbody tr th:only-of-type {\n",
       "        vertical-align: middle;\n",
       "    }\n",
       "\n",
       "    .dataframe tbody tr th {\n",
       "        vertical-align: top;\n",
       "    }\n",
       "\n",
       "    .dataframe thead th {\n",
       "        text-align: right;\n",
       "    }\n",
       "</style>\n",
       "<table border=\"1\" class=\"dataframe\">\n",
       "  <thead>\n",
       "    <tr style=\"text-align: right;\">\n",
       "      <th></th>\n",
       "      <th>name</th>\n",
       "      <th>home.dest</th>\n",
       "      <th>sex</th>\n",
       "    </tr>\n",
       "  </thead>\n",
       "  <tbody>\n",
       "    <tr>\n",
       "      <th>0</th>\n",
       "      <td>ALLEN, MISS. ELISABETH WALTON</td>\n",
       "      <td>ST LOUIS, MO</td>\n",
       "      <td>FEMALE</td>\n",
       "    </tr>\n",
       "    <tr>\n",
       "      <th>1</th>\n",
       "      <td>ALLISON, MASTER. HUDSON TREVOR</td>\n",
       "      <td>MONTREAL, PQ / CHESTERVILLE, ON</td>\n",
       "      <td>MALE</td>\n",
       "    </tr>\n",
       "    <tr>\n",
       "      <th>2</th>\n",
       "      <td>ALLISON, MISS. HELEN LORAINE</td>\n",
       "      <td>MONTREAL, PQ / CHESTERVILLE, ON</td>\n",
       "      <td>FEMALE</td>\n",
       "    </tr>\n",
       "    <tr>\n",
       "      <th>3</th>\n",
       "      <td>ALLISON, MR. HUDSON JOSHUA CREIGHTON</td>\n",
       "      <td>MONTREAL, PQ / CHESTERVILLE, ON</td>\n",
       "      <td>MALE</td>\n",
       "    </tr>\n",
       "    <tr>\n",
       "      <th>4</th>\n",
       "      <td>ALLISON, MRS. HUDSON J C (BESSIE WALDO DANIELS)</td>\n",
       "      <td>MONTREAL, PQ / CHESTERVILLE, ON</td>\n",
       "      <td>FEMALE</td>\n",
       "    </tr>\n",
       "    <tr>\n",
       "      <th>...</th>\n",
       "      <td>...</td>\n",
       "      <td>...</td>\n",
       "      <td>...</td>\n",
       "    </tr>\n",
       "    <tr>\n",
       "      <th>1304</th>\n",
       "      <td>ZABOUR, MISS. HILENI</td>\n",
       "      <td>?</td>\n",
       "      <td>FEMALE</td>\n",
       "    </tr>\n",
       "    <tr>\n",
       "      <th>1305</th>\n",
       "      <td>ZABOUR, MISS. THAMINE</td>\n",
       "      <td>?</td>\n",
       "      <td>FEMALE</td>\n",
       "    </tr>\n",
       "    <tr>\n",
       "      <th>1306</th>\n",
       "      <td>ZAKARIAN, MR. MAPRIEDEDER</td>\n",
       "      <td>?</td>\n",
       "      <td>MALE</td>\n",
       "    </tr>\n",
       "    <tr>\n",
       "      <th>1307</th>\n",
       "      <td>ZAKARIAN, MR. ORTIN</td>\n",
       "      <td>?</td>\n",
       "      <td>MALE</td>\n",
       "    </tr>\n",
       "    <tr>\n",
       "      <th>1308</th>\n",
       "      <td>ZIMMERMAN, MR. LEO</td>\n",
       "      <td>?</td>\n",
       "      <td>MALE</td>\n",
       "    </tr>\n",
       "  </tbody>\n",
       "</table>\n",
       "<p>1309 rows × 3 columns</p>\n",
       "</div>"
      ],
      "text/plain": [
       "                                                 name  \\\n",
       "0                       ALLEN, MISS. ELISABETH WALTON   \n",
       "1                      ALLISON, MASTER. HUDSON TREVOR   \n",
       "2                        ALLISON, MISS. HELEN LORAINE   \n",
       "3                ALLISON, MR. HUDSON JOSHUA CREIGHTON   \n",
       "4     ALLISON, MRS. HUDSON J C (BESSIE WALDO DANIELS)   \n",
       "...                                               ...   \n",
       "1304                             ZABOUR, MISS. HILENI   \n",
       "1305                            ZABOUR, MISS. THAMINE   \n",
       "1306                        ZAKARIAN, MR. MAPRIEDEDER   \n",
       "1307                              ZAKARIAN, MR. ORTIN   \n",
       "1308                               ZIMMERMAN, MR. LEO   \n",
       "\n",
       "                            home.dest     sex  \n",
       "0                        ST LOUIS, MO  FEMALE  \n",
       "1     MONTREAL, PQ / CHESTERVILLE, ON    MALE  \n",
       "2     MONTREAL, PQ / CHESTERVILLE, ON  FEMALE  \n",
       "3     MONTREAL, PQ / CHESTERVILLE, ON    MALE  \n",
       "4     MONTREAL, PQ / CHESTERVILLE, ON  FEMALE  \n",
       "...                               ...     ...  \n",
       "1304                                ?  FEMALE  \n",
       "1305                                ?  FEMALE  \n",
       "1306                                ?    MALE  \n",
       "1307                                ?    MALE  \n",
       "1308                                ?    MALE  \n",
       "\n",
       "[1309 rows x 3 columns]"
      ]
     },
     "execution_count": 23,
     "metadata": {},
     "output_type": "execute_result"
    }
   ],
   "source": [
    "titanic[['name','home.dest','sex']].applymap(str.upper)"
   ]
  },
  {
   "cell_type": "code",
   "execution_count": 24,
   "id": "4baee2a6",
   "metadata": {},
   "outputs": [
    {
     "data": {
      "text/html": [
       "<div>\n",
       "<style scoped>\n",
       "    .dataframe tbody tr th:only-of-type {\n",
       "        vertical-align: middle;\n",
       "    }\n",
       "\n",
       "    .dataframe tbody tr th {\n",
       "        vertical-align: top;\n",
       "    }\n",
       "\n",
       "    .dataframe thead th {\n",
       "        text-align: right;\n",
       "    }\n",
       "</style>\n",
       "<table border=\"1\" class=\"dataframe\">\n",
       "  <thead>\n",
       "    <tr style=\"text-align: right;\">\n",
       "      <th></th>\n",
       "      <th>age</th>\n",
       "      <th>survived</th>\n",
       "      <th>pclass</th>\n",
       "      <th>fare</th>\n",
       "    </tr>\n",
       "  </thead>\n",
       "  <tbody>\n",
       "    <tr>\n",
       "      <th>0</th>\n",
       "      <td>203.0000</td>\n",
       "      <td>7</td>\n",
       "      <td>7</td>\n",
       "      <td>1479.3625</td>\n",
       "    </tr>\n",
       "    <tr>\n",
       "      <th>1</th>\n",
       "      <td>6.4169</td>\n",
       "      <td>7</td>\n",
       "      <td>7</td>\n",
       "      <td>1060.8500</td>\n",
       "    </tr>\n",
       "    <tr>\n",
       "      <th>2</th>\n",
       "      <td>14.0000</td>\n",
       "      <td>0</td>\n",
       "      <td>7</td>\n",
       "      <td>1060.8500</td>\n",
       "    </tr>\n",
       "    <tr>\n",
       "      <th>3</th>\n",
       "      <td>210.0000</td>\n",
       "      <td>0</td>\n",
       "      <td>7</td>\n",
       "      <td>1060.8500</td>\n",
       "    </tr>\n",
       "    <tr>\n",
       "      <th>4</th>\n",
       "      <td>175.0000</td>\n",
       "      <td>0</td>\n",
       "      <td>7</td>\n",
       "      <td>1060.8500</td>\n",
       "    </tr>\n",
       "    <tr>\n",
       "      <th>...</th>\n",
       "      <td>...</td>\n",
       "      <td>...</td>\n",
       "      <td>...</td>\n",
       "      <td>...</td>\n",
       "    </tr>\n",
       "    <tr>\n",
       "      <th>1304</th>\n",
       "      <td>101.5000</td>\n",
       "      <td>0</td>\n",
       "      <td>21</td>\n",
       "      <td>101.1794</td>\n",
       "    </tr>\n",
       "    <tr>\n",
       "      <th>1305</th>\n",
       "      <td>NaN</td>\n",
       "      <td>0</td>\n",
       "      <td>21</td>\n",
       "      <td>101.1794</td>\n",
       "    </tr>\n",
       "    <tr>\n",
       "      <th>1306</th>\n",
       "      <td>185.5000</td>\n",
       "      <td>0</td>\n",
       "      <td>21</td>\n",
       "      <td>50.5750</td>\n",
       "    </tr>\n",
       "    <tr>\n",
       "      <th>1307</th>\n",
       "      <td>189.0000</td>\n",
       "      <td>0</td>\n",
       "      <td>21</td>\n",
       "      <td>50.5750</td>\n",
       "    </tr>\n",
       "    <tr>\n",
       "      <th>1308</th>\n",
       "      <td>203.0000</td>\n",
       "      <td>0</td>\n",
       "      <td>21</td>\n",
       "      <td>55.1250</td>\n",
       "    </tr>\n",
       "  </tbody>\n",
       "</table>\n",
       "<p>1309 rows × 4 columns</p>\n",
       "</div>"
      ],
      "text/plain": [
       "           age  survived  pclass       fare\n",
       "0     203.0000         7       7  1479.3625\n",
       "1       6.4169         7       7  1060.8500\n",
       "2      14.0000         0       7  1060.8500\n",
       "3     210.0000         0       7  1060.8500\n",
       "4     175.0000         0       7  1060.8500\n",
       "...        ...       ...     ...        ...\n",
       "1304  101.5000         0      21   101.1794\n",
       "1305       NaN         0      21   101.1794\n",
       "1306  185.5000         0      21    50.5750\n",
       "1307  189.0000         0      21    50.5750\n",
       "1308  203.0000         0      21    55.1250\n",
       "\n",
       "[1309 rows x 4 columns]"
      ]
     },
     "execution_count": 24,
     "metadata": {},
     "output_type": "execute_result"
    }
   ],
   "source": [
    "df.applymap(lambda a:a * 7)"
   ]
  },
  {
   "cell_type": "code",
   "execution_count": 25,
   "id": "1d134d1f",
   "metadata": {},
   "outputs": [],
   "source": [
    "s1=pd.Series(['a','b','c'])"
   ]
  },
  {
   "cell_type": "code",
   "execution_count": 26,
   "id": "58400c18",
   "metadata": {},
   "outputs": [],
   "source": [
    "s2=pd.Series(['a','de','f'])"
   ]
  },
  {
   "cell_type": "code",
   "execution_count": 27,
   "id": "8e9d6291",
   "metadata": {},
   "outputs": [
    {
     "data": {
      "text/plain": [
       "0     a\n",
       "1     b\n",
       "2     c\n",
       "0     a\n",
       "1    de\n",
       "2     f\n",
       "dtype: object"
      ]
     },
     "execution_count": 27,
     "metadata": {},
     "output_type": "execute_result"
    }
   ],
   "source": [
    "pd.concat([s1,s2])"
   ]
  },
  {
   "cell_type": "code",
   "execution_count": 28,
   "id": "eecdc0a5",
   "metadata": {},
   "outputs": [
    {
     "data": {
      "text/plain": [
       "0     a\n",
       "1     b\n",
       "2     c\n",
       "3     a\n",
       "4    de\n",
       "5     f\n",
       "dtype: object"
      ]
     },
     "execution_count": 28,
     "metadata": {},
     "output_type": "execute_result"
    }
   ],
   "source": [
    "pd.concat([s1,s2], ignore_index=True)"
   ]
  },
  {
   "cell_type": "code",
   "execution_count": 37,
   "id": "72783dd9",
   "metadata": {},
   "outputs": [],
   "source": [
    "fruits = pd.Series(['apple','banana','cherry'], index=['a','b','c'])"
   ]
  },
  {
   "cell_type": "code",
   "execution_count": 38,
   "id": "67acdf04",
   "metadata": {},
   "outputs": [
    {
     "data": {
      "text/plain": [
       "a     apple\n",
       "b    banana\n",
       "c    cherry\n",
       "dtype: object"
      ]
     },
     "execution_count": 38,
     "metadata": {},
     "output_type": "execute_result"
    }
   ],
   "source": [
    "fruits"
   ]
  },
  {
   "cell_type": "code",
   "execution_count": 51,
   "id": "7f9cc0c9",
   "metadata": {},
   "outputs": [],
   "source": [
    "animals = pd.Series(['anaconda','badger','cougar','pike','human'], index=['a','b','c','p','h'])"
   ]
  },
  {
   "cell_type": "code",
   "execution_count": 53,
   "id": "afcad0be",
   "metadata": {},
   "outputs": [
    {
     "data": {
      "text/plain": [
       "a    anaconda\n",
       "b      badger\n",
       "c      cougar\n",
       "p        pike\n",
       "h       human\n",
       "dtype: object"
      ]
     },
     "execution_count": 53,
     "metadata": {},
     "output_type": "execute_result"
    }
   ],
   "source": [
    "animals"
   ]
  },
  {
   "cell_type": "code",
   "execution_count": 62,
   "id": "4d10910a",
   "metadata": {},
   "outputs": [
    {
     "data": {
      "text/plain": [
       "fruits   a       apple\n",
       "         b      banana\n",
       "         c      cherry\n",
       "animals  a    anaconda\n",
       "         b      badger\n",
       "         c      cougar\n",
       "         p        pike\n",
       "         h       human\n",
       "dtype: object"
      ]
     },
     "execution_count": 62,
     "metadata": {},
     "output_type": "execute_result"
    }
   ],
   "source": [
    "pd.concat([fruits,animals], keys=['fruits','animals'])\n",
    "# Hierarchy Indexing"
   ]
  },
  {
   "cell_type": "code",
   "execution_count": 63,
   "id": "57ed7f4b",
   "metadata": {},
   "outputs": [
    {
     "data": {
      "text/html": [
       "<div>\n",
       "<style scoped>\n",
       "    .dataframe tbody tr th:only-of-type {\n",
       "        vertical-align: middle;\n",
       "    }\n",
       "\n",
       "    .dataframe tbody tr th {\n",
       "        vertical-align: top;\n",
       "    }\n",
       "\n",
       "    .dataframe thead th {\n",
       "        text-align: right;\n",
       "    }\n",
       "</style>\n",
       "<table border=\"1\" class=\"dataframe\">\n",
       "  <thead>\n",
       "    <tr style=\"text-align: right;\">\n",
       "      <th></th>\n",
       "      <th>fruits</th>\n",
       "      <th>animals</th>\n",
       "    </tr>\n",
       "  </thead>\n",
       "  <tbody>\n",
       "    <tr>\n",
       "      <th>a</th>\n",
       "      <td>apple</td>\n",
       "      <td>anaconda</td>\n",
       "    </tr>\n",
       "    <tr>\n",
       "      <th>b</th>\n",
       "      <td>banana</td>\n",
       "      <td>badger</td>\n",
       "    </tr>\n",
       "    <tr>\n",
       "      <th>c</th>\n",
       "      <td>cherry</td>\n",
       "      <td>cougar</td>\n",
       "    </tr>\n",
       "    <tr>\n",
       "      <th>p</th>\n",
       "      <td>NaN</td>\n",
       "      <td>pike</td>\n",
       "    </tr>\n",
       "    <tr>\n",
       "      <th>h</th>\n",
       "      <td>NaN</td>\n",
       "      <td>human</td>\n",
       "    </tr>\n",
       "  </tbody>\n",
       "</table>\n",
       "</div>"
      ],
      "text/plain": [
       "   fruits   animals\n",
       "a   apple  anaconda\n",
       "b  banana    badger\n",
       "c  cherry    cougar\n",
       "p     NaN      pike\n",
       "h     NaN     human"
      ]
     },
     "execution_count": 63,
     "metadata": {},
     "output_type": "execute_result"
    }
   ],
   "source": [
    "pd.concat([fruits,animals], axis=1, keys=['fruits','animals'])"
   ]
  },
  {
   "cell_type": "code",
   "execution_count": 65,
   "id": "b0ad3eaa",
   "metadata": {},
   "outputs": [
    {
     "data": {
      "text/html": [
       "<div>\n",
       "<style scoped>\n",
       "    .dataframe tbody tr th:only-of-type {\n",
       "        vertical-align: middle;\n",
       "    }\n",
       "\n",
       "    .dataframe tbody tr th {\n",
       "        vertical-align: top;\n",
       "    }\n",
       "\n",
       "    .dataframe thead th {\n",
       "        text-align: right;\n",
       "    }\n",
       "</style>\n",
       "<table border=\"1\" class=\"dataframe\">\n",
       "  <thead>\n",
       "    <tr style=\"text-align: right;\">\n",
       "      <th></th>\n",
       "      <th>0</th>\n",
       "      <th>1</th>\n",
       "    </tr>\n",
       "  </thead>\n",
       "  <tbody>\n",
       "    <tr>\n",
       "      <th>a</th>\n",
       "      <td>apple</td>\n",
       "      <td>anaconda</td>\n",
       "    </tr>\n",
       "    <tr>\n",
       "      <th>b</th>\n",
       "      <td>banana</td>\n",
       "      <td>badger</td>\n",
       "    </tr>\n",
       "    <tr>\n",
       "      <th>c</th>\n",
       "      <td>cherry</td>\n",
       "      <td>cougar</td>\n",
       "    </tr>\n",
       "  </tbody>\n",
       "</table>\n",
       "</div>"
      ],
      "text/plain": [
       "        0         1\n",
       "a   apple  anaconda\n",
       "b  banana    badger\n",
       "c  cherry    cougar"
      ]
     },
     "execution_count": 65,
     "metadata": {},
     "output_type": "execute_result"
    }
   ],
   "source": [
    "pd.concat([fruits,animals], axis=1, join='inner')"
   ]
  },
  {
   "cell_type": "code",
   "execution_count": 66,
   "id": "7f1e357b",
   "metadata": {},
   "outputs": [],
   "source": [
    "harvest_21 = pd.DataFrame(\n",
    "    [['potatoes', 900], ['garlic', 1350], ['onions', 875]], \n",
    "    columns=['crop', 'qty']\n",
    ")\n",
    "\n",
    "harvest_22 = pd.DataFrame(\n",
    "    [['garlic', 1600], ['spinach', 560], ['turnips', 999], ['onions', 1000]], \n",
    "    columns=['crop', 'qty']\n",
    ")"
   ]
  },
  {
   "cell_type": "code",
   "execution_count": 70,
   "id": "9dabfca1",
   "metadata": {},
   "outputs": [
    {
     "data": {
      "text/html": [
       "<div>\n",
       "<style scoped>\n",
       "    .dataframe tbody tr th:only-of-type {\n",
       "        vertical-align: middle;\n",
       "    }\n",
       "\n",
       "    .dataframe tbody tr th {\n",
       "        vertical-align: top;\n",
       "    }\n",
       "\n",
       "    .dataframe thead th {\n",
       "        text-align: right;\n",
       "    }\n",
       "</style>\n",
       "<table border=\"1\" class=\"dataframe\">\n",
       "  <thead>\n",
       "    <tr style=\"text-align: right;\">\n",
       "      <th></th>\n",
       "      <th>crop</th>\n",
       "      <th>qty</th>\n",
       "    </tr>\n",
       "  </thead>\n",
       "  <tbody>\n",
       "    <tr>\n",
       "      <th>0</th>\n",
       "      <td>potatoes</td>\n",
       "      <td>900</td>\n",
       "    </tr>\n",
       "    <tr>\n",
       "      <th>1</th>\n",
       "      <td>garlic</td>\n",
       "      <td>1350</td>\n",
       "    </tr>\n",
       "    <tr>\n",
       "      <th>2</th>\n",
       "      <td>onions</td>\n",
       "      <td>875</td>\n",
       "    </tr>\n",
       "  </tbody>\n",
       "</table>\n",
       "</div>"
      ],
      "text/plain": [
       "       crop   qty\n",
       "0  potatoes   900\n",
       "1    garlic  1350\n",
       "2    onions   875"
      ]
     },
     "execution_count": 70,
     "metadata": {},
     "output_type": "execute_result"
    }
   ],
   "source": [
    "harvest_21"
   ]
  },
  {
   "cell_type": "code",
   "execution_count": 71,
   "id": "2dc743bd",
   "metadata": {},
   "outputs": [
    {
     "data": {
      "text/html": [
       "<div>\n",
       "<style scoped>\n",
       "    .dataframe tbody tr th:only-of-type {\n",
       "        vertical-align: middle;\n",
       "    }\n",
       "\n",
       "    .dataframe tbody tr th {\n",
       "        vertical-align: top;\n",
       "    }\n",
       "\n",
       "    .dataframe thead th {\n",
       "        text-align: right;\n",
       "    }\n",
       "</style>\n",
       "<table border=\"1\" class=\"dataframe\">\n",
       "  <thead>\n",
       "    <tr style=\"text-align: right;\">\n",
       "      <th></th>\n",
       "      <th>crop</th>\n",
       "      <th>qty</th>\n",
       "    </tr>\n",
       "  </thead>\n",
       "  <tbody>\n",
       "    <tr>\n",
       "      <th>0</th>\n",
       "      <td>garlic</td>\n",
       "      <td>1600</td>\n",
       "    </tr>\n",
       "    <tr>\n",
       "      <th>1</th>\n",
       "      <td>spinach</td>\n",
       "      <td>560</td>\n",
       "    </tr>\n",
       "    <tr>\n",
       "      <th>2</th>\n",
       "      <td>turnips</td>\n",
       "      <td>999</td>\n",
       "    </tr>\n",
       "    <tr>\n",
       "      <th>3</th>\n",
       "      <td>onions</td>\n",
       "      <td>1000</td>\n",
       "    </tr>\n",
       "  </tbody>\n",
       "</table>\n",
       "</div>"
      ],
      "text/plain": [
       "      crop   qty\n",
       "0   garlic  1600\n",
       "1  spinach   560\n",
       "2  turnips   999\n",
       "3   onions  1000"
      ]
     },
     "execution_count": 71,
     "metadata": {},
     "output_type": "execute_result"
    }
   ],
   "source": [
    "harvest_22"
   ]
  },
  {
   "cell_type": "code",
   "execution_count": 73,
   "id": "9026a6df",
   "metadata": {},
   "outputs": [
    {
     "data": {
      "text/html": [
       "<div>\n",
       "<style scoped>\n",
       "    .dataframe tbody tr th:only-of-type {\n",
       "        vertical-align: middle;\n",
       "    }\n",
       "\n",
       "    .dataframe tbody tr th {\n",
       "        vertical-align: top;\n",
       "    }\n",
       "\n",
       "    .dataframe thead th {\n",
       "        text-align: right;\n",
       "    }\n",
       "</style>\n",
       "<table border=\"1\" class=\"dataframe\">\n",
       "  <thead>\n",
       "    <tr style=\"text-align: right;\">\n",
       "      <th></th>\n",
       "      <th>crop</th>\n",
       "      <th>qty</th>\n",
       "      <th>crop</th>\n",
       "      <th>qty</th>\n",
       "    </tr>\n",
       "  </thead>\n",
       "  <tbody>\n",
       "    <tr>\n",
       "      <th>0</th>\n",
       "      <td>potatoes</td>\n",
       "      <td>900.0</td>\n",
       "      <td>garlic</td>\n",
       "      <td>1600</td>\n",
       "    </tr>\n",
       "    <tr>\n",
       "      <th>1</th>\n",
       "      <td>garlic</td>\n",
       "      <td>1350.0</td>\n",
       "      <td>spinach</td>\n",
       "      <td>560</td>\n",
       "    </tr>\n",
       "    <tr>\n",
       "      <th>2</th>\n",
       "      <td>onions</td>\n",
       "      <td>875.0</td>\n",
       "      <td>turnips</td>\n",
       "      <td>999</td>\n",
       "    </tr>\n",
       "    <tr>\n",
       "      <th>3</th>\n",
       "      <td>NaN</td>\n",
       "      <td>NaN</td>\n",
       "      <td>onions</td>\n",
       "      <td>1000</td>\n",
       "    </tr>\n",
       "  </tbody>\n",
       "</table>\n",
       "</div>"
      ],
      "text/plain": [
       "       crop     qty     crop   qty\n",
       "0  potatoes   900.0   garlic  1600\n",
       "1    garlic  1350.0  spinach   560\n",
       "2    onions   875.0  turnips   999\n",
       "3       NaN     NaN   onions  1000"
      ]
     },
     "execution_count": 73,
     "metadata": {},
     "output_type": "execute_result"
    }
   ],
   "source": [
    "pd.concat([harvest_21,harvest_22], axis=1, join='outer')"
   ]
  },
  {
   "cell_type": "code",
   "execution_count": 74,
   "id": "59f328c9",
   "metadata": {},
   "outputs": [],
   "source": [
    "harvest_23 = pd.DataFrame(\n",
    "    [['potatoes', 900, 500], ['garlic', 1350, 1200], ['onions', 875, 950]], \n",
    "    columns=['crop', 'qty', 'profit']\n",
    ")"
   ]
  },
  {
   "cell_type": "code",
   "execution_count": 75,
   "id": "33d4013e",
   "metadata": {},
   "outputs": [
    {
     "data": {
      "text/html": [
       "<div>\n",
       "<style scoped>\n",
       "    .dataframe tbody tr th:only-of-type {\n",
       "        vertical-align: middle;\n",
       "    }\n",
       "\n",
       "    .dataframe tbody tr th {\n",
       "        vertical-align: top;\n",
       "    }\n",
       "\n",
       "    .dataframe thead th {\n",
       "        text-align: right;\n",
       "    }\n",
       "</style>\n",
       "<table border=\"1\" class=\"dataframe\">\n",
       "  <thead>\n",
       "    <tr style=\"text-align: right;\">\n",
       "      <th></th>\n",
       "      <th>crop</th>\n",
       "      <th>qty</th>\n",
       "      <th>profit</th>\n",
       "    </tr>\n",
       "  </thead>\n",
       "  <tbody>\n",
       "    <tr>\n",
       "      <th>0</th>\n",
       "      <td>potatoes</td>\n",
       "      <td>900</td>\n",
       "      <td>500</td>\n",
       "    </tr>\n",
       "    <tr>\n",
       "      <th>1</th>\n",
       "      <td>garlic</td>\n",
       "      <td>1350</td>\n",
       "      <td>1200</td>\n",
       "    </tr>\n",
       "    <tr>\n",
       "      <th>2</th>\n",
       "      <td>onions</td>\n",
       "      <td>875</td>\n",
       "      <td>950</td>\n",
       "    </tr>\n",
       "  </tbody>\n",
       "</table>\n",
       "</div>"
      ],
      "text/plain": [
       "       crop   qty  profit\n",
       "0  potatoes   900     500\n",
       "1    garlic  1350    1200\n",
       "2    onions   875     950"
      ]
     },
     "execution_count": 75,
     "metadata": {},
     "output_type": "execute_result"
    }
   ],
   "source": [
    "harvest_23"
   ]
  },
  {
   "cell_type": "code",
   "execution_count": 89,
   "id": "4e605b49",
   "metadata": {},
   "outputs": [
    {
     "data": {
      "text/html": [
       "<div>\n",
       "<style scoped>\n",
       "    .dataframe tbody tr th:only-of-type {\n",
       "        vertical-align: middle;\n",
       "    }\n",
       "\n",
       "    .dataframe tbody tr th {\n",
       "        vertical-align: top;\n",
       "    }\n",
       "\n",
       "    .dataframe thead th {\n",
       "        text-align: right;\n",
       "    }\n",
       "</style>\n",
       "<table border=\"1\" class=\"dataframe\">\n",
       "  <thead>\n",
       "    <tr style=\"text-align: right;\">\n",
       "      <th></th>\n",
       "      <th></th>\n",
       "      <th>crop</th>\n",
       "      <th>qty</th>\n",
       "      <th>profit</th>\n",
       "    </tr>\n",
       "  </thead>\n",
       "  <tbody>\n",
       "    <tr>\n",
       "      <th rowspan=\"3\" valign=\"top\">2021</th>\n",
       "      <th>0</th>\n",
       "      <td>potatoes</td>\n",
       "      <td>900</td>\n",
       "      <td>NaN</td>\n",
       "    </tr>\n",
       "    <tr>\n",
       "      <th>1</th>\n",
       "      <td>garlic</td>\n",
       "      <td>1350</td>\n",
       "      <td>NaN</td>\n",
       "    </tr>\n",
       "    <tr>\n",
       "      <th>2</th>\n",
       "      <td>onions</td>\n",
       "      <td>875</td>\n",
       "      <td>NaN</td>\n",
       "    </tr>\n",
       "    <tr>\n",
       "      <th rowspan=\"4\" valign=\"top\">2022</th>\n",
       "      <th>0</th>\n",
       "      <td>garlic</td>\n",
       "      <td>1600</td>\n",
       "      <td>NaN</td>\n",
       "    </tr>\n",
       "    <tr>\n",
       "      <th>1</th>\n",
       "      <td>spinach</td>\n",
       "      <td>560</td>\n",
       "      <td>NaN</td>\n",
       "    </tr>\n",
       "    <tr>\n",
       "      <th>2</th>\n",
       "      <td>turnips</td>\n",
       "      <td>999</td>\n",
       "      <td>NaN</td>\n",
       "    </tr>\n",
       "    <tr>\n",
       "      <th>3</th>\n",
       "      <td>onions</td>\n",
       "      <td>1000</td>\n",
       "      <td>NaN</td>\n",
       "    </tr>\n",
       "    <tr>\n",
       "      <th rowspan=\"3\" valign=\"top\">2023</th>\n",
       "      <th>0</th>\n",
       "      <td>potatoes</td>\n",
       "      <td>900</td>\n",
       "      <td>500.0</td>\n",
       "    </tr>\n",
       "    <tr>\n",
       "      <th>1</th>\n",
       "      <td>garlic</td>\n",
       "      <td>1350</td>\n",
       "      <td>1200.0</td>\n",
       "    </tr>\n",
       "    <tr>\n",
       "      <th>2</th>\n",
       "      <td>onions</td>\n",
       "      <td>875</td>\n",
       "      <td>950.0</td>\n",
       "    </tr>\n",
       "  </tbody>\n",
       "</table>\n",
       "</div>"
      ],
      "text/plain": [
       "            crop   qty  profit\n",
       "2021 0  potatoes   900     NaN\n",
       "     1    garlic  1350     NaN\n",
       "     2    onions   875     NaN\n",
       "2022 0    garlic  1600     NaN\n",
       "     1   spinach   560     NaN\n",
       "     2   turnips   999     NaN\n",
       "     3    onions  1000     NaN\n",
       "2023 0  potatoes   900   500.0\n",
       "     1    garlic  1350  1200.0\n",
       "     2    onions   875   950.0"
      ]
     },
     "execution_count": 89,
     "metadata": {},
     "output_type": "execute_result"
    }
   ],
   "source": [
    "pd.concat([harvest_21,harvest_22, harvest_23],keys=['2021','2022','2023'],  axis=0)"
   ]
  },
  {
   "cell_type": "code",
   "execution_count": 90,
   "id": "1ac35e38",
   "metadata": {},
   "outputs": [],
   "source": [
    "livestock = pd.DataFrame(\n",
    "    [['pasture', 9], ['stable', 3], ['coop', 34]], \n",
    "    columns=['location', 'qty'],\n",
    "    index=['alpaca', 'horse', 'chicken']\n",
    ")\n",
    "weights = pd.DataFrame(\n",
    "    [[4,10], [900, 2000], [1.2, 4], [110, 150]], \n",
    "    columns=['min_weight', 'max_weight'],\n",
    "    index=['chicken', 'horse', 'duck', 'alpaca']\n",
    ")"
   ]
  },
  {
   "cell_type": "code",
   "execution_count": 91,
   "id": "fc94188c",
   "metadata": {},
   "outputs": [
    {
     "data": {
      "text/html": [
       "<div>\n",
       "<style scoped>\n",
       "    .dataframe tbody tr th:only-of-type {\n",
       "        vertical-align: middle;\n",
       "    }\n",
       "\n",
       "    .dataframe tbody tr th {\n",
       "        vertical-align: top;\n",
       "    }\n",
       "\n",
       "    .dataframe thead th {\n",
       "        text-align: right;\n",
       "    }\n",
       "</style>\n",
       "<table border=\"1\" class=\"dataframe\">\n",
       "  <thead>\n",
       "    <tr style=\"text-align: right;\">\n",
       "      <th></th>\n",
       "      <th>location</th>\n",
       "      <th>qty</th>\n",
       "    </tr>\n",
       "  </thead>\n",
       "  <tbody>\n",
       "    <tr>\n",
       "      <th>alpaca</th>\n",
       "      <td>pasture</td>\n",
       "      <td>9</td>\n",
       "    </tr>\n",
       "    <tr>\n",
       "      <th>horse</th>\n",
       "      <td>stable</td>\n",
       "      <td>3</td>\n",
       "    </tr>\n",
       "    <tr>\n",
       "      <th>chicken</th>\n",
       "      <td>coop</td>\n",
       "      <td>34</td>\n",
       "    </tr>\n",
       "  </tbody>\n",
       "</table>\n",
       "</div>"
      ],
      "text/plain": [
       "        location  qty\n",
       "alpaca   pasture    9\n",
       "horse     stable    3\n",
       "chicken     coop   34"
      ]
     },
     "execution_count": 91,
     "metadata": {},
     "output_type": "execute_result"
    }
   ],
   "source": [
    "livestock"
   ]
  },
  {
   "cell_type": "code",
   "execution_count": 92,
   "id": "4d1014ac",
   "metadata": {},
   "outputs": [
    {
     "data": {
      "text/html": [
       "<div>\n",
       "<style scoped>\n",
       "    .dataframe tbody tr th:only-of-type {\n",
       "        vertical-align: middle;\n",
       "    }\n",
       "\n",
       "    .dataframe tbody tr th {\n",
       "        vertical-align: top;\n",
       "    }\n",
       "\n",
       "    .dataframe thead th {\n",
       "        text-align: right;\n",
       "    }\n",
       "</style>\n",
       "<table border=\"1\" class=\"dataframe\">\n",
       "  <thead>\n",
       "    <tr style=\"text-align: right;\">\n",
       "      <th></th>\n",
       "      <th>min_weight</th>\n",
       "      <th>max_weight</th>\n",
       "    </tr>\n",
       "  </thead>\n",
       "  <tbody>\n",
       "    <tr>\n",
       "      <th>chicken</th>\n",
       "      <td>4.0</td>\n",
       "      <td>10</td>\n",
       "    </tr>\n",
       "    <tr>\n",
       "      <th>horse</th>\n",
       "      <td>900.0</td>\n",
       "      <td>2000</td>\n",
       "    </tr>\n",
       "    <tr>\n",
       "      <th>duck</th>\n",
       "      <td>1.2</td>\n",
       "      <td>4</td>\n",
       "    </tr>\n",
       "    <tr>\n",
       "      <th>alpaca</th>\n",
       "      <td>110.0</td>\n",
       "      <td>150</td>\n",
       "    </tr>\n",
       "  </tbody>\n",
       "</table>\n",
       "</div>"
      ],
      "text/plain": [
       "         min_weight  max_weight\n",
       "chicken         4.0          10\n",
       "horse         900.0        2000\n",
       "duck            1.2           4\n",
       "alpaca        110.0         150"
      ]
     },
     "execution_count": 92,
     "metadata": {},
     "output_type": "execute_result"
    }
   ],
   "source": [
    "weights"
   ]
  },
  {
   "cell_type": "code",
   "execution_count": 95,
   "id": "d4578a09",
   "metadata": {},
   "outputs": [
    {
     "data": {
      "text/html": [
       "<div>\n",
       "<style scoped>\n",
       "    .dataframe tbody tr th:only-of-type {\n",
       "        vertical-align: middle;\n",
       "    }\n",
       "\n",
       "    .dataframe tbody tr th {\n",
       "        vertical-align: top;\n",
       "    }\n",
       "\n",
       "    .dataframe thead th {\n",
       "        text-align: right;\n",
       "    }\n",
       "</style>\n",
       "<table border=\"1\" class=\"dataframe\">\n",
       "  <thead>\n",
       "    <tr style=\"text-align: right;\">\n",
       "      <th></th>\n",
       "      <th>location</th>\n",
       "      <th>qty</th>\n",
       "      <th>min_weight</th>\n",
       "      <th>max_weight</th>\n",
       "    </tr>\n",
       "  </thead>\n",
       "  <tbody>\n",
       "    <tr>\n",
       "      <th>alpaca</th>\n",
       "      <td>pasture</td>\n",
       "      <td>9.0</td>\n",
       "      <td>110.0</td>\n",
       "      <td>150</td>\n",
       "    </tr>\n",
       "    <tr>\n",
       "      <th>horse</th>\n",
       "      <td>stable</td>\n",
       "      <td>3.0</td>\n",
       "      <td>900.0</td>\n",
       "      <td>2000</td>\n",
       "    </tr>\n",
       "    <tr>\n",
       "      <th>chicken</th>\n",
       "      <td>coop</td>\n",
       "      <td>34.0</td>\n",
       "      <td>4.0</td>\n",
       "      <td>10</td>\n",
       "    </tr>\n",
       "    <tr>\n",
       "      <th>duck</th>\n",
       "      <td>NaN</td>\n",
       "      <td>NaN</td>\n",
       "      <td>1.2</td>\n",
       "      <td>4</td>\n",
       "    </tr>\n",
       "  </tbody>\n",
       "</table>\n",
       "</div>"
      ],
      "text/plain": [
       "        location   qty  min_weight  max_weight\n",
       "alpaca   pasture   9.0       110.0         150\n",
       "horse     stable   3.0       900.0        2000\n",
       "chicken     coop  34.0         4.0          10\n",
       "duck         NaN   NaN         1.2           4"
      ]
     },
     "execution_count": 95,
     "metadata": {},
     "output_type": "execute_result"
    }
   ],
   "source": [
    "pd.concat([livestock, weights], axis=1)"
   ]
  },
  {
   "cell_type": "code",
   "execution_count": 96,
   "id": "1c453c60",
   "metadata": {},
   "outputs": [
    {
     "data": {
      "text/html": [
       "<div>\n",
       "<style scoped>\n",
       "    .dataframe tbody tr th:only-of-type {\n",
       "        vertical-align: middle;\n",
       "    }\n",
       "\n",
       "    .dataframe tbody tr th {\n",
       "        vertical-align: top;\n",
       "    }\n",
       "\n",
       "    .dataframe thead th {\n",
       "        text-align: right;\n",
       "    }\n",
       "</style>\n",
       "<table border=\"1\" class=\"dataframe\">\n",
       "  <thead>\n",
       "    <tr style=\"text-align: right;\">\n",
       "      <th></th>\n",
       "      <th>location</th>\n",
       "      <th>qty</th>\n",
       "      <th>min_weight</th>\n",
       "      <th>max_weight</th>\n",
       "    </tr>\n",
       "  </thead>\n",
       "  <tbody>\n",
       "    <tr>\n",
       "      <th>alpaca</th>\n",
       "      <td>pasture</td>\n",
       "      <td>9</td>\n",
       "      <td>110.0</td>\n",
       "      <td>150</td>\n",
       "    </tr>\n",
       "    <tr>\n",
       "      <th>horse</th>\n",
       "      <td>stable</td>\n",
       "      <td>3</td>\n",
       "      <td>900.0</td>\n",
       "      <td>2000</td>\n",
       "    </tr>\n",
       "    <tr>\n",
       "      <th>chicken</th>\n",
       "      <td>coop</td>\n",
       "      <td>34</td>\n",
       "      <td>4.0</td>\n",
       "      <td>10</td>\n",
       "    </tr>\n",
       "  </tbody>\n",
       "</table>\n",
       "</div>"
      ],
      "text/plain": [
       "        location  qty  min_weight  max_weight\n",
       "alpaca   pasture    9       110.0         150\n",
       "horse     stable    3       900.0        2000\n",
       "chicken     coop   34         4.0          10"
      ]
     },
     "execution_count": 96,
     "metadata": {},
     "output_type": "execute_result"
    }
   ],
   "source": [
    "pd.concat([livestock, weights], axis=1, join='inner')"
   ]
  },
  {
   "cell_type": "code",
   "execution_count": 97,
   "id": "68c94ba5",
   "metadata": {},
   "outputs": [],
   "source": [
    "teams = pd.DataFrame(\n",
    "    [\n",
    "        [\"Suns\", \"Phoenix\", 20, 4], \n",
    "        [\"Mavericks\", \"Dallas\", 11,12], \n",
    "        [\"Rockets\", \"Houston\", 7, 16],\n",
    "        ['Nuggets', \"Denver\", 11, 12]\n",
    "    ], \n",
    "    columns=[\"team\", \"city\", \"wins\", \"losses\"]\n",
    ")\n",
    "\n",
    "cities = pd.DataFrame(\n",
    "    [\n",
    "        [\"Houston\", \"Texas\", 2310000], \n",
    "        [\"Phoenix\", \"Arizona\", 1630000], \n",
    "        [\"San Diego\", \"California\", 1410000],\n",
    "        [\"Dallas\", \"Texas\", 1310000]\n",
    "    ],\n",
    "    columns=[\"city\", \"state\", \"population\"]\n",
    ")"
   ]
  },
  {
   "cell_type": "code",
   "execution_count": 98,
   "id": "93c46143",
   "metadata": {},
   "outputs": [
    {
     "data": {
      "text/html": [
       "<div>\n",
       "<style scoped>\n",
       "    .dataframe tbody tr th:only-of-type {\n",
       "        vertical-align: middle;\n",
       "    }\n",
       "\n",
       "    .dataframe tbody tr th {\n",
       "        vertical-align: top;\n",
       "    }\n",
       "\n",
       "    .dataframe thead th {\n",
       "        text-align: right;\n",
       "    }\n",
       "</style>\n",
       "<table border=\"1\" class=\"dataframe\">\n",
       "  <thead>\n",
       "    <tr style=\"text-align: right;\">\n",
       "      <th></th>\n",
       "      <th>team</th>\n",
       "      <th>city</th>\n",
       "      <th>wins</th>\n",
       "      <th>losses</th>\n",
       "    </tr>\n",
       "  </thead>\n",
       "  <tbody>\n",
       "    <tr>\n",
       "      <th>0</th>\n",
       "      <td>Suns</td>\n",
       "      <td>Phoenix</td>\n",
       "      <td>20</td>\n",
       "      <td>4</td>\n",
       "    </tr>\n",
       "    <tr>\n",
       "      <th>1</th>\n",
       "      <td>Mavericks</td>\n",
       "      <td>Dallas</td>\n",
       "      <td>11</td>\n",
       "      <td>12</td>\n",
       "    </tr>\n",
       "    <tr>\n",
       "      <th>2</th>\n",
       "      <td>Rockets</td>\n",
       "      <td>Houston</td>\n",
       "      <td>7</td>\n",
       "      <td>16</td>\n",
       "    </tr>\n",
       "    <tr>\n",
       "      <th>3</th>\n",
       "      <td>Nuggets</td>\n",
       "      <td>Denver</td>\n",
       "      <td>11</td>\n",
       "      <td>12</td>\n",
       "    </tr>\n",
       "  </tbody>\n",
       "</table>\n",
       "</div>"
      ],
      "text/plain": [
       "        team     city  wins  losses\n",
       "0       Suns  Phoenix    20       4\n",
       "1  Mavericks   Dallas    11      12\n",
       "2    Rockets  Houston     7      16\n",
       "3    Nuggets   Denver    11      12"
      ]
     },
     "execution_count": 98,
     "metadata": {},
     "output_type": "execute_result"
    }
   ],
   "source": [
    "teams"
   ]
  },
  {
   "cell_type": "code",
   "execution_count": 99,
   "id": "02cc67ae",
   "metadata": {},
   "outputs": [
    {
     "data": {
      "text/html": [
       "<div>\n",
       "<style scoped>\n",
       "    .dataframe tbody tr th:only-of-type {\n",
       "        vertical-align: middle;\n",
       "    }\n",
       "\n",
       "    .dataframe tbody tr th {\n",
       "        vertical-align: top;\n",
       "    }\n",
       "\n",
       "    .dataframe thead th {\n",
       "        text-align: right;\n",
       "    }\n",
       "</style>\n",
       "<table border=\"1\" class=\"dataframe\">\n",
       "  <thead>\n",
       "    <tr style=\"text-align: right;\">\n",
       "      <th></th>\n",
       "      <th>city</th>\n",
       "      <th>state</th>\n",
       "      <th>population</th>\n",
       "    </tr>\n",
       "  </thead>\n",
       "  <tbody>\n",
       "    <tr>\n",
       "      <th>0</th>\n",
       "      <td>Houston</td>\n",
       "      <td>Texas</td>\n",
       "      <td>2310000</td>\n",
       "    </tr>\n",
       "    <tr>\n",
       "      <th>1</th>\n",
       "      <td>Phoenix</td>\n",
       "      <td>Arizona</td>\n",
       "      <td>1630000</td>\n",
       "    </tr>\n",
       "    <tr>\n",
       "      <th>2</th>\n",
       "      <td>San Diego</td>\n",
       "      <td>California</td>\n",
       "      <td>1410000</td>\n",
       "    </tr>\n",
       "    <tr>\n",
       "      <th>3</th>\n",
       "      <td>Dallas</td>\n",
       "      <td>Texas</td>\n",
       "      <td>1310000</td>\n",
       "    </tr>\n",
       "  </tbody>\n",
       "</table>\n",
       "</div>"
      ],
      "text/plain": [
       "        city       state  population\n",
       "0    Houston       Texas     2310000\n",
       "1    Phoenix     Arizona     1630000\n",
       "2  San Diego  California     1410000\n",
       "3     Dallas       Texas     1310000"
      ]
     },
     "execution_count": 99,
     "metadata": {},
     "output_type": "execute_result"
    }
   ],
   "source": [
    "cities"
   ]
  },
  {
   "cell_type": "code",
   "execution_count": 104,
   "id": "10e48e34",
   "metadata": {},
   "outputs": [
    {
     "data": {
      "text/html": [
       "<div>\n",
       "<style scoped>\n",
       "    .dataframe tbody tr th:only-of-type {\n",
       "        vertical-align: middle;\n",
       "    }\n",
       "\n",
       "    .dataframe tbody tr th {\n",
       "        vertical-align: top;\n",
       "    }\n",
       "\n",
       "    .dataframe thead th {\n",
       "        text-align: right;\n",
       "    }\n",
       "</style>\n",
       "<table border=\"1\" class=\"dataframe\">\n",
       "  <thead>\n",
       "    <tr style=\"text-align: right;\">\n",
       "      <th></th>\n",
       "      <th>team</th>\n",
       "      <th>city_x</th>\n",
       "      <th>wins</th>\n",
       "      <th>losses</th>\n",
       "      <th>city_y</th>\n",
       "      <th>state</th>\n",
       "      <th>population</th>\n",
       "    </tr>\n",
       "  </thead>\n",
       "  <tbody>\n",
       "    <tr>\n",
       "      <th>0</th>\n",
       "      <td>Suns</td>\n",
       "      <td>Phoenix</td>\n",
       "      <td>20</td>\n",
       "      <td>4</td>\n",
       "      <td>Houston</td>\n",
       "      <td>Texas</td>\n",
       "      <td>2310000</td>\n",
       "    </tr>\n",
       "    <tr>\n",
       "      <th>1</th>\n",
       "      <td>Suns</td>\n",
       "      <td>Phoenix</td>\n",
       "      <td>20</td>\n",
       "      <td>4</td>\n",
       "      <td>Phoenix</td>\n",
       "      <td>Arizona</td>\n",
       "      <td>1630000</td>\n",
       "    </tr>\n",
       "    <tr>\n",
       "      <th>2</th>\n",
       "      <td>Suns</td>\n",
       "      <td>Phoenix</td>\n",
       "      <td>20</td>\n",
       "      <td>4</td>\n",
       "      <td>San Diego</td>\n",
       "      <td>California</td>\n",
       "      <td>1410000</td>\n",
       "    </tr>\n",
       "    <tr>\n",
       "      <th>3</th>\n",
       "      <td>Suns</td>\n",
       "      <td>Phoenix</td>\n",
       "      <td>20</td>\n",
       "      <td>4</td>\n",
       "      <td>Dallas</td>\n",
       "      <td>Texas</td>\n",
       "      <td>1310000</td>\n",
       "    </tr>\n",
       "    <tr>\n",
       "      <th>4</th>\n",
       "      <td>Mavericks</td>\n",
       "      <td>Dallas</td>\n",
       "      <td>11</td>\n",
       "      <td>12</td>\n",
       "      <td>Houston</td>\n",
       "      <td>Texas</td>\n",
       "      <td>2310000</td>\n",
       "    </tr>\n",
       "    <tr>\n",
       "      <th>5</th>\n",
       "      <td>Mavericks</td>\n",
       "      <td>Dallas</td>\n",
       "      <td>11</td>\n",
       "      <td>12</td>\n",
       "      <td>Phoenix</td>\n",
       "      <td>Arizona</td>\n",
       "      <td>1630000</td>\n",
       "    </tr>\n",
       "    <tr>\n",
       "      <th>6</th>\n",
       "      <td>Mavericks</td>\n",
       "      <td>Dallas</td>\n",
       "      <td>11</td>\n",
       "      <td>12</td>\n",
       "      <td>San Diego</td>\n",
       "      <td>California</td>\n",
       "      <td>1410000</td>\n",
       "    </tr>\n",
       "    <tr>\n",
       "      <th>7</th>\n",
       "      <td>Mavericks</td>\n",
       "      <td>Dallas</td>\n",
       "      <td>11</td>\n",
       "      <td>12</td>\n",
       "      <td>Dallas</td>\n",
       "      <td>Texas</td>\n",
       "      <td>1310000</td>\n",
       "    </tr>\n",
       "    <tr>\n",
       "      <th>8</th>\n",
       "      <td>Rockets</td>\n",
       "      <td>Houston</td>\n",
       "      <td>7</td>\n",
       "      <td>16</td>\n",
       "      <td>Houston</td>\n",
       "      <td>Texas</td>\n",
       "      <td>2310000</td>\n",
       "    </tr>\n",
       "    <tr>\n",
       "      <th>9</th>\n",
       "      <td>Rockets</td>\n",
       "      <td>Houston</td>\n",
       "      <td>7</td>\n",
       "      <td>16</td>\n",
       "      <td>Phoenix</td>\n",
       "      <td>Arizona</td>\n",
       "      <td>1630000</td>\n",
       "    </tr>\n",
       "    <tr>\n",
       "      <th>10</th>\n",
       "      <td>Rockets</td>\n",
       "      <td>Houston</td>\n",
       "      <td>7</td>\n",
       "      <td>16</td>\n",
       "      <td>San Diego</td>\n",
       "      <td>California</td>\n",
       "      <td>1410000</td>\n",
       "    </tr>\n",
       "    <tr>\n",
       "      <th>11</th>\n",
       "      <td>Rockets</td>\n",
       "      <td>Houston</td>\n",
       "      <td>7</td>\n",
       "      <td>16</td>\n",
       "      <td>Dallas</td>\n",
       "      <td>Texas</td>\n",
       "      <td>1310000</td>\n",
       "    </tr>\n",
       "    <tr>\n",
       "      <th>12</th>\n",
       "      <td>Nuggets</td>\n",
       "      <td>Denver</td>\n",
       "      <td>11</td>\n",
       "      <td>12</td>\n",
       "      <td>Houston</td>\n",
       "      <td>Texas</td>\n",
       "      <td>2310000</td>\n",
       "    </tr>\n",
       "    <tr>\n",
       "      <th>13</th>\n",
       "      <td>Nuggets</td>\n",
       "      <td>Denver</td>\n",
       "      <td>11</td>\n",
       "      <td>12</td>\n",
       "      <td>Phoenix</td>\n",
       "      <td>Arizona</td>\n",
       "      <td>1630000</td>\n",
       "    </tr>\n",
       "    <tr>\n",
       "      <th>14</th>\n",
       "      <td>Nuggets</td>\n",
       "      <td>Denver</td>\n",
       "      <td>11</td>\n",
       "      <td>12</td>\n",
       "      <td>San Diego</td>\n",
       "      <td>California</td>\n",
       "      <td>1410000</td>\n",
       "    </tr>\n",
       "    <tr>\n",
       "      <th>15</th>\n",
       "      <td>Nuggets</td>\n",
       "      <td>Denver</td>\n",
       "      <td>11</td>\n",
       "      <td>12</td>\n",
       "      <td>Dallas</td>\n",
       "      <td>Texas</td>\n",
       "      <td>1310000</td>\n",
       "    </tr>\n",
       "  </tbody>\n",
       "</table>\n",
       "</div>"
      ],
      "text/plain": [
       "         team   city_x  wins  losses     city_y       state  population\n",
       "0        Suns  Phoenix    20       4    Houston       Texas     2310000\n",
       "1        Suns  Phoenix    20       4    Phoenix     Arizona     1630000\n",
       "2        Suns  Phoenix    20       4  San Diego  California     1410000\n",
       "3        Suns  Phoenix    20       4     Dallas       Texas     1310000\n",
       "4   Mavericks   Dallas    11      12    Houston       Texas     2310000\n",
       "5   Mavericks   Dallas    11      12    Phoenix     Arizona     1630000\n",
       "6   Mavericks   Dallas    11      12  San Diego  California     1410000\n",
       "7   Mavericks   Dallas    11      12     Dallas       Texas     1310000\n",
       "8     Rockets  Houston     7      16    Houston       Texas     2310000\n",
       "9     Rockets  Houston     7      16    Phoenix     Arizona     1630000\n",
       "10    Rockets  Houston     7      16  San Diego  California     1410000\n",
       "11    Rockets  Houston     7      16     Dallas       Texas     1310000\n",
       "12    Nuggets   Denver    11      12    Houston       Texas     2310000\n",
       "13    Nuggets   Denver    11      12    Phoenix     Arizona     1630000\n",
       "14    Nuggets   Denver    11      12  San Diego  California     1410000\n",
       "15    Nuggets   Denver    11      12     Dallas       Texas     1310000"
      ]
     },
     "execution_count": 104,
     "metadata": {},
     "output_type": "execute_result"
    }
   ],
   "source": [
    "teams.merge(cities, how='cross')"
   ]
  },
  {
   "cell_type": "code",
   "execution_count": 105,
   "id": "96e2f179",
   "metadata": {},
   "outputs": [],
   "source": [
    "midterms = pd.DataFrame(\n",
    "    [['alex', 'padilla', 92], ['rayna', 'wilson', 83], ['juan', 'gomez', 78], ['angela', 'smith', 66],['stephen', 'yu', 98]], \n",
    "    columns=['first', 'last', 'score']\n",
    ")\n",
    "finals = pd.DataFrame(\n",
    "    [['alex','padilla', 97, False], ['rayna', 'wilson', 88, False], ['alex', 'smith', 86, True], ['juan', 'gomez', 71, True], ['stephen', 'yu', 78, False], ['sakura', 'steel', 100, True]], \n",
    "    columns=['first', 'last','score', 'extra_credit']\n",
    ")\n"
   ]
  },
  {
   "cell_type": "code",
   "execution_count": 106,
   "id": "ef7d4026",
   "metadata": {},
   "outputs": [
    {
     "data": {
      "text/html": [
       "<div>\n",
       "<style scoped>\n",
       "    .dataframe tbody tr th:only-of-type {\n",
       "        vertical-align: middle;\n",
       "    }\n",
       "\n",
       "    .dataframe tbody tr th {\n",
       "        vertical-align: top;\n",
       "    }\n",
       "\n",
       "    .dataframe thead th {\n",
       "        text-align: right;\n",
       "    }\n",
       "</style>\n",
       "<table border=\"1\" class=\"dataframe\">\n",
       "  <thead>\n",
       "    <tr style=\"text-align: right;\">\n",
       "      <th></th>\n",
       "      <th>first</th>\n",
       "      <th>last</th>\n",
       "      <th>score</th>\n",
       "    </tr>\n",
       "  </thead>\n",
       "  <tbody>\n",
       "    <tr>\n",
       "      <th>0</th>\n",
       "      <td>alex</td>\n",
       "      <td>padilla</td>\n",
       "      <td>92</td>\n",
       "    </tr>\n",
       "    <tr>\n",
       "      <th>1</th>\n",
       "      <td>rayna</td>\n",
       "      <td>wilson</td>\n",
       "      <td>83</td>\n",
       "    </tr>\n",
       "    <tr>\n",
       "      <th>2</th>\n",
       "      <td>juan</td>\n",
       "      <td>gomez</td>\n",
       "      <td>78</td>\n",
       "    </tr>\n",
       "    <tr>\n",
       "      <th>3</th>\n",
       "      <td>angela</td>\n",
       "      <td>smith</td>\n",
       "      <td>66</td>\n",
       "    </tr>\n",
       "    <tr>\n",
       "      <th>4</th>\n",
       "      <td>stephen</td>\n",
       "      <td>yu</td>\n",
       "      <td>98</td>\n",
       "    </tr>\n",
       "  </tbody>\n",
       "</table>\n",
       "</div>"
      ],
      "text/plain": [
       "     first     last  score\n",
       "0     alex  padilla     92\n",
       "1    rayna   wilson     83\n",
       "2     juan    gomez     78\n",
       "3   angela    smith     66\n",
       "4  stephen       yu     98"
      ]
     },
     "execution_count": 106,
     "metadata": {},
     "output_type": "execute_result"
    }
   ],
   "source": [
    "midterms"
   ]
  },
  {
   "cell_type": "code",
   "execution_count": 107,
   "id": "a3e84065",
   "metadata": {},
   "outputs": [
    {
     "data": {
      "text/html": [
       "<div>\n",
       "<style scoped>\n",
       "    .dataframe tbody tr th:only-of-type {\n",
       "        vertical-align: middle;\n",
       "    }\n",
       "\n",
       "    .dataframe tbody tr th {\n",
       "        vertical-align: top;\n",
       "    }\n",
       "\n",
       "    .dataframe thead th {\n",
       "        text-align: right;\n",
       "    }\n",
       "</style>\n",
       "<table border=\"1\" class=\"dataframe\">\n",
       "  <thead>\n",
       "    <tr style=\"text-align: right;\">\n",
       "      <th></th>\n",
       "      <th>first</th>\n",
       "      <th>last</th>\n",
       "      <th>score</th>\n",
       "      <th>extra_credit</th>\n",
       "    </tr>\n",
       "  </thead>\n",
       "  <tbody>\n",
       "    <tr>\n",
       "      <th>0</th>\n",
       "      <td>alex</td>\n",
       "      <td>padilla</td>\n",
       "      <td>97</td>\n",
       "      <td>False</td>\n",
       "    </tr>\n",
       "    <tr>\n",
       "      <th>1</th>\n",
       "      <td>rayna</td>\n",
       "      <td>wilson</td>\n",
       "      <td>88</td>\n",
       "      <td>False</td>\n",
       "    </tr>\n",
       "    <tr>\n",
       "      <th>2</th>\n",
       "      <td>alex</td>\n",
       "      <td>smith</td>\n",
       "      <td>86</td>\n",
       "      <td>True</td>\n",
       "    </tr>\n",
       "    <tr>\n",
       "      <th>3</th>\n",
       "      <td>juan</td>\n",
       "      <td>gomez</td>\n",
       "      <td>71</td>\n",
       "      <td>True</td>\n",
       "    </tr>\n",
       "    <tr>\n",
       "      <th>4</th>\n",
       "      <td>stephen</td>\n",
       "      <td>yu</td>\n",
       "      <td>78</td>\n",
       "      <td>False</td>\n",
       "    </tr>\n",
       "    <tr>\n",
       "      <th>5</th>\n",
       "      <td>sakura</td>\n",
       "      <td>steel</td>\n",
       "      <td>100</td>\n",
       "      <td>True</td>\n",
       "    </tr>\n",
       "  </tbody>\n",
       "</table>\n",
       "</div>"
      ],
      "text/plain": [
       "     first     last  score  extra_credit\n",
       "0     alex  padilla     97         False\n",
       "1    rayna   wilson     88         False\n",
       "2     alex    smith     86          True\n",
       "3     juan    gomez     71          True\n",
       "4  stephen       yu     78         False\n",
       "5   sakura    steel    100          True"
      ]
     },
     "execution_count": 107,
     "metadata": {},
     "output_type": "execute_result"
    }
   ],
   "source": [
    "finals"
   ]
  },
  {
   "cell_type": "code",
   "execution_count": 114,
   "id": "62474ae3",
   "metadata": {},
   "outputs": [
    {
     "data": {
      "text/html": [
       "<div>\n",
       "<style scoped>\n",
       "    .dataframe tbody tr th:only-of-type {\n",
       "        vertical-align: middle;\n",
       "    }\n",
       "\n",
       "    .dataframe tbody tr th {\n",
       "        vertical-align: top;\n",
       "    }\n",
       "\n",
       "    .dataframe thead th {\n",
       "        text-align: right;\n",
       "    }\n",
       "</style>\n",
       "<table border=\"1\" class=\"dataframe\">\n",
       "  <thead>\n",
       "    <tr style=\"text-align: right;\">\n",
       "      <th></th>\n",
       "      <th></th>\n",
       "      <th>first</th>\n",
       "      <th>last</th>\n",
       "      <th>score</th>\n",
       "      <th>extra_credit</th>\n",
       "    </tr>\n",
       "  </thead>\n",
       "  <tbody>\n",
       "    <tr>\n",
       "      <th rowspan=\"6\" valign=\"top\">Finals</th>\n",
       "      <th>0</th>\n",
       "      <td>alex</td>\n",
       "      <td>padilla</td>\n",
       "      <td>97</td>\n",
       "      <td>False</td>\n",
       "    </tr>\n",
       "    <tr>\n",
       "      <th>1</th>\n",
       "      <td>rayna</td>\n",
       "      <td>wilson</td>\n",
       "      <td>88</td>\n",
       "      <td>False</td>\n",
       "    </tr>\n",
       "    <tr>\n",
       "      <th>2</th>\n",
       "      <td>alex</td>\n",
       "      <td>smith</td>\n",
       "      <td>86</td>\n",
       "      <td>True</td>\n",
       "    </tr>\n",
       "    <tr>\n",
       "      <th>3</th>\n",
       "      <td>juan</td>\n",
       "      <td>gomez</td>\n",
       "      <td>71</td>\n",
       "      <td>True</td>\n",
       "    </tr>\n",
       "    <tr>\n",
       "      <th>4</th>\n",
       "      <td>stephen</td>\n",
       "      <td>yu</td>\n",
       "      <td>78</td>\n",
       "      <td>False</td>\n",
       "    </tr>\n",
       "    <tr>\n",
       "      <th>5</th>\n",
       "      <td>sakura</td>\n",
       "      <td>steel</td>\n",
       "      <td>100</td>\n",
       "      <td>True</td>\n",
       "    </tr>\n",
       "    <tr>\n",
       "      <th rowspan=\"5\" valign=\"top\">Midterms</th>\n",
       "      <th>0</th>\n",
       "      <td>alex</td>\n",
       "      <td>padilla</td>\n",
       "      <td>92</td>\n",
       "      <td>NaN</td>\n",
       "    </tr>\n",
       "    <tr>\n",
       "      <th>1</th>\n",
       "      <td>rayna</td>\n",
       "      <td>wilson</td>\n",
       "      <td>83</td>\n",
       "      <td>NaN</td>\n",
       "    </tr>\n",
       "    <tr>\n",
       "      <th>2</th>\n",
       "      <td>juan</td>\n",
       "      <td>gomez</td>\n",
       "      <td>78</td>\n",
       "      <td>NaN</td>\n",
       "    </tr>\n",
       "    <tr>\n",
       "      <th>3</th>\n",
       "      <td>angela</td>\n",
       "      <td>smith</td>\n",
       "      <td>66</td>\n",
       "      <td>NaN</td>\n",
       "    </tr>\n",
       "    <tr>\n",
       "      <th>4</th>\n",
       "      <td>stephen</td>\n",
       "      <td>yu</td>\n",
       "      <td>98</td>\n",
       "      <td>NaN</td>\n",
       "    </tr>\n",
       "  </tbody>\n",
       "</table>\n",
       "</div>"
      ],
      "text/plain": [
       "              first     last  score extra_credit\n",
       "Finals   0     alex  padilla     97        False\n",
       "         1    rayna   wilson     88        False\n",
       "         2     alex    smith     86         True\n",
       "         3     juan    gomez     71         True\n",
       "         4  stephen       yu     78        False\n",
       "         5   sakura    steel    100         True\n",
       "Midterms 0     alex  padilla     92          NaN\n",
       "         1    rayna   wilson     83          NaN\n",
       "         2     juan    gomez     78          NaN\n",
       "         3   angela    smith     66          NaN\n",
       "         4  stephen       yu     98          NaN"
      ]
     },
     "execution_count": 114,
     "metadata": {},
     "output_type": "execute_result"
    }
   ],
   "source": [
    "pd.concat([finals,midterms], keys=[\"Finals\",\"Midterms\"])"
   ]
  },
  {
   "cell_type": "code",
   "execution_count": 124,
   "id": "8d0e4ffe",
   "metadata": {},
   "outputs": [
    {
     "data": {
      "text/html": [
       "<div>\n",
       "<style scoped>\n",
       "    .dataframe tbody tr th:only-of-type {\n",
       "        vertical-align: middle;\n",
       "    }\n",
       "\n",
       "    .dataframe tbody tr th {\n",
       "        vertical-align: top;\n",
       "    }\n",
       "\n",
       "    .dataframe thead th {\n",
       "        text-align: right;\n",
       "    }\n",
       "</style>\n",
       "<table border=\"1\" class=\"dataframe\">\n",
       "  <thead>\n",
       "    <tr style=\"text-align: right;\">\n",
       "      <th></th>\n",
       "      <th>first</th>\n",
       "      <th>last</th>\n",
       "      <th>score_x</th>\n",
       "      <th>score_y</th>\n",
       "      <th>extra_credit</th>\n",
       "    </tr>\n",
       "  </thead>\n",
       "  <tbody>\n",
       "    <tr>\n",
       "      <th>0</th>\n",
       "      <td>alex</td>\n",
       "      <td>padilla</td>\n",
       "      <td>92.0</td>\n",
       "      <td>97.0</td>\n",
       "      <td>False</td>\n",
       "    </tr>\n",
       "    <tr>\n",
       "      <th>1</th>\n",
       "      <td>rayna</td>\n",
       "      <td>wilson</td>\n",
       "      <td>83.0</td>\n",
       "      <td>88.0</td>\n",
       "      <td>False</td>\n",
       "    </tr>\n",
       "    <tr>\n",
       "      <th>2</th>\n",
       "      <td>juan</td>\n",
       "      <td>gomez</td>\n",
       "      <td>78.0</td>\n",
       "      <td>71.0</td>\n",
       "      <td>True</td>\n",
       "    </tr>\n",
       "    <tr>\n",
       "      <th>3</th>\n",
       "      <td>angela</td>\n",
       "      <td>smith</td>\n",
       "      <td>66.0</td>\n",
       "      <td>NaN</td>\n",
       "      <td>NaN</td>\n",
       "    </tr>\n",
       "    <tr>\n",
       "      <th>4</th>\n",
       "      <td>stephen</td>\n",
       "      <td>yu</td>\n",
       "      <td>98.0</td>\n",
       "      <td>78.0</td>\n",
       "      <td>False</td>\n",
       "    </tr>\n",
       "    <tr>\n",
       "      <th>5</th>\n",
       "      <td>alex</td>\n",
       "      <td>smith</td>\n",
       "      <td>NaN</td>\n",
       "      <td>86.0</td>\n",
       "      <td>True</td>\n",
       "    </tr>\n",
       "    <tr>\n",
       "      <th>6</th>\n",
       "      <td>sakura</td>\n",
       "      <td>steel</td>\n",
       "      <td>NaN</td>\n",
       "      <td>100.0</td>\n",
       "      <td>True</td>\n",
       "    </tr>\n",
       "  </tbody>\n",
       "</table>\n",
       "</div>"
      ],
      "text/plain": [
       "     first     last  score_x  score_y extra_credit\n",
       "0     alex  padilla     92.0     97.0        False\n",
       "1    rayna   wilson     83.0     88.0        False\n",
       "2     juan    gomez     78.0     71.0         True\n",
       "3   angela    smith     66.0      NaN          NaN\n",
       "4  stephen       yu     98.0     78.0        False\n",
       "5     alex    smith      NaN     86.0         True\n",
       "6   sakura    steel      NaN    100.0         True"
      ]
     },
     "execution_count": 124,
     "metadata": {},
     "output_type": "execute_result"
    }
   ],
   "source": [
    "midterms.merge(finals, on=['first','last'], how='outer')"
   ]
  },
  {
   "cell_type": "code",
   "execution_count": 125,
   "id": "26111972",
   "metadata": {},
   "outputs": [
    {
     "data": {
      "text/html": [
       "<div>\n",
       "<style scoped>\n",
       "    .dataframe tbody tr th:only-of-type {\n",
       "        vertical-align: middle;\n",
       "    }\n",
       "\n",
       "    .dataframe tbody tr th {\n",
       "        vertical-align: top;\n",
       "    }\n",
       "\n",
       "    .dataframe thead th {\n",
       "        text-align: right;\n",
       "    }\n",
       "</style>\n",
       "<table border=\"1\" class=\"dataframe\">\n",
       "  <thead>\n",
       "    <tr style=\"text-align: right;\">\n",
       "      <th></th>\n",
       "      <th>first</th>\n",
       "      <th>last</th>\n",
       "      <th>score_midterms</th>\n",
       "      <th>score_finals</th>\n",
       "      <th>extra_credit</th>\n",
       "    </tr>\n",
       "  </thead>\n",
       "  <tbody>\n",
       "    <tr>\n",
       "      <th>0</th>\n",
       "      <td>alex</td>\n",
       "      <td>padilla</td>\n",
       "      <td>92</td>\n",
       "      <td>97</td>\n",
       "      <td>False</td>\n",
       "    </tr>\n",
       "    <tr>\n",
       "      <th>1</th>\n",
       "      <td>rayna</td>\n",
       "      <td>wilson</td>\n",
       "      <td>83</td>\n",
       "      <td>88</td>\n",
       "      <td>False</td>\n",
       "    </tr>\n",
       "    <tr>\n",
       "      <th>2</th>\n",
       "      <td>juan</td>\n",
       "      <td>gomez</td>\n",
       "      <td>78</td>\n",
       "      <td>71</td>\n",
       "      <td>True</td>\n",
       "    </tr>\n",
       "    <tr>\n",
       "      <th>3</th>\n",
       "      <td>stephen</td>\n",
       "      <td>yu</td>\n",
       "      <td>98</td>\n",
       "      <td>78</td>\n",
       "      <td>False</td>\n",
       "    </tr>\n",
       "  </tbody>\n",
       "</table>\n",
       "</div>"
      ],
      "text/plain": [
       "     first     last  score_midterms  score_finals  extra_credit\n",
       "0     alex  padilla              92            97         False\n",
       "1    rayna   wilson              83            88         False\n",
       "2     juan    gomez              78            71          True\n",
       "3  stephen       yu              98            78         False"
      ]
     },
     "execution_count": 125,
     "metadata": {},
     "output_type": "execute_result"
    }
   ],
   "source": [
    "midterms.merge(finals, on=['first','last'], how='inner', suffixes=['_midterms','_finals'])"
   ]
  },
  {
   "cell_type": "code",
   "execution_count": null,
   "id": "57f475b0",
   "metadata": {},
   "outputs": [],
   "source": []
  }
 ],
 "metadata": {
  "kernelspec": {
   "display_name": "Python 3 (ipykernel)",
   "language": "python",
   "name": "python3"
  },
  "language_info": {
   "codemirror_mode": {
    "name": "ipython",
    "version": 3
   },
   "file_extension": ".py",
   "mimetype": "text/x-python",
   "name": "python",
   "nbconvert_exporter": "python",
   "pygments_lexer": "ipython3",
   "version": "3.9.13"
  }
 },
 "nbformat": 4,
 "nbformat_minor": 5
}
