{
 "cells": [
  {
   "cell_type": "code",
   "execution_count": 1,
   "id": "d5308cc6",
   "metadata": {},
   "outputs": [],
   "source": [
    "import pandas as pd\n",
    "import matplotlib.pyplot as plt"
   ]
  },
  {
   "cell_type": "code",
   "execution_count": 2,
   "id": "ecceefaa",
   "metadata": {},
   "outputs": [],
   "source": [
    "rts=pd.read_csv('Red Team Security.csv')"
   ]
  },
  {
   "cell_type": "code",
   "execution_count": 3,
   "id": "d8f16613",
   "metadata": {},
   "outputs": [
    {
     "data": {
      "text/html": [
       "<div>\n",
       "<style scoped>\n",
       "    .dataframe tbody tr th:only-of-type {\n",
       "        vertical-align: middle;\n",
       "    }\n",
       "\n",
       "    .dataframe tbody tr th {\n",
       "        vertical-align: top;\n",
       "    }\n",
       "\n",
       "    .dataframe thead th {\n",
       "        text-align: right;\n",
       "    }\n",
       "</style>\n",
       "<table border=\"1\" class=\"dataframe\">\n",
       "  <thead>\n",
       "    <tr style=\"text-align: right;\">\n",
       "      <th></th>\n",
       "      <th>Title</th>\n",
       "      <th>Threat Agent</th>\n",
       "      <th>Vulnerability Factors</th>\n",
       "      <th>Tech Impact</th>\n",
       "      <th>Biz Impact</th>\n",
       "      <th>Instances</th>\n",
       "      <th>Rating</th>\n",
       "      <th>Type</th>\n",
       "    </tr>\n",
       "  </thead>\n",
       "  <tbody>\n",
       "    <tr>\n",
       "      <th>0</th>\n",
       "      <td>Shared Password</td>\n",
       "      <td>8</td>\n",
       "      <td>8</td>\n",
       "      <td>8</td>\n",
       "      <td>8</td>\n",
       "      <td>1</td>\n",
       "      <td>8.00</td>\n",
       "      <td>critical</td>\n",
       "    </tr>\n",
       "    <tr>\n",
       "      <th>1</th>\n",
       "      <td>SMB Sign Not Enabled</td>\n",
       "      <td>6</td>\n",
       "      <td>8</td>\n",
       "      <td>7</td>\n",
       "      <td>7</td>\n",
       "      <td>9</td>\n",
       "      <td>7.00</td>\n",
       "      <td>high</td>\n",
       "    </tr>\n",
       "    <tr>\n",
       "      <th>2</th>\n",
       "      <td>DNS Cache Snooping</td>\n",
       "      <td>5</td>\n",
       "      <td>1</td>\n",
       "      <td>5</td>\n",
       "      <td>5</td>\n",
       "      <td>3</td>\n",
       "      <td>4.00</td>\n",
       "      <td>medium</td>\n",
       "    </tr>\n",
       "    <tr>\n",
       "      <th>3</th>\n",
       "      <td>Apache mod_negotiations</td>\n",
       "      <td>1</td>\n",
       "      <td>1</td>\n",
       "      <td>2</td>\n",
       "      <td>1</td>\n",
       "      <td>1</td>\n",
       "      <td>1.25</td>\n",
       "      <td>low</td>\n",
       "    </tr>\n",
       "  </tbody>\n",
       "</table>\n",
       "</div>"
      ],
      "text/plain": [
       "                     Title  Threat Agent  Vulnerability Factors  Tech Impact  \\\n",
       "0          Shared Password             8                      8            8   \n",
       "1     SMB Sign Not Enabled             6                      8            7   \n",
       "2       DNS Cache Snooping             5                      1            5   \n",
       "3  Apache mod_negotiations             1                      1            2   \n",
       "\n",
       "   Biz Impact  Instances  Rating      Type  \n",
       "0           8          1    8.00  critical  \n",
       "1           7          9    7.00      high  \n",
       "2           5          3    4.00    medium  \n",
       "3           1          1    1.25       low  "
      ]
     },
     "execution_count": 3,
     "metadata": {},
     "output_type": "execute_result"
    }
   ],
   "source": [
    "rts"
   ]
  },
  {
   "cell_type": "code",
   "execution_count": 4,
   "id": "bb974fe7",
   "metadata": {},
   "outputs": [],
   "source": [
    "plt.style.use('seaborn')"
   ]
  },
  {
   "cell_type": "code",
   "execution_count": 5,
   "id": "8de7ad21",
   "metadata": {},
   "outputs": [],
   "source": [
    "rts['Instance Rating Product']=rts['Instances']*rts['Rating']"
   ]
  },
  {
   "cell_type": "code",
   "execution_count": 6,
   "id": "f714437f",
   "metadata": {},
   "outputs": [],
   "source": [
    "# total_sum=rts['Instance Rating Product'].sum()"
   ]
  },
  {
   "cell_type": "code",
   "execution_count": 7,
   "id": "18927c4e",
   "metadata": {},
   "outputs": [],
   "source": [
    "# total_sum"
   ]
  },
  {
   "cell_type": "code",
   "execution_count": 8,
   "id": "38cd0610",
   "metadata": {},
   "outputs": [
    {
     "data": {
      "text/html": [
       "<div>\n",
       "<style scoped>\n",
       "    .dataframe tbody tr th:only-of-type {\n",
       "        vertical-align: middle;\n",
       "    }\n",
       "\n",
       "    .dataframe tbody tr th {\n",
       "        vertical-align: top;\n",
       "    }\n",
       "\n",
       "    .dataframe thead th {\n",
       "        text-align: right;\n",
       "    }\n",
       "</style>\n",
       "<table border=\"1\" class=\"dataframe\">\n",
       "  <thead>\n",
       "    <tr style=\"text-align: right;\">\n",
       "      <th></th>\n",
       "      <th>Title</th>\n",
       "      <th>Threat Agent</th>\n",
       "      <th>Vulnerability Factors</th>\n",
       "      <th>Tech Impact</th>\n",
       "      <th>Biz Impact</th>\n",
       "      <th>Instances</th>\n",
       "      <th>Rating</th>\n",
       "      <th>Type</th>\n",
       "      <th>Instance Rating Product</th>\n",
       "    </tr>\n",
       "  </thead>\n",
       "  <tbody>\n",
       "    <tr>\n",
       "      <th>0</th>\n",
       "      <td>Shared Password</td>\n",
       "      <td>8</td>\n",
       "      <td>8</td>\n",
       "      <td>8</td>\n",
       "      <td>8</td>\n",
       "      <td>1</td>\n",
       "      <td>8.00</td>\n",
       "      <td>critical</td>\n",
       "      <td>8.00</td>\n",
       "    </tr>\n",
       "    <tr>\n",
       "      <th>1</th>\n",
       "      <td>SMB Sign Not Enabled</td>\n",
       "      <td>6</td>\n",
       "      <td>8</td>\n",
       "      <td>7</td>\n",
       "      <td>7</td>\n",
       "      <td>9</td>\n",
       "      <td>7.00</td>\n",
       "      <td>high</td>\n",
       "      <td>63.00</td>\n",
       "    </tr>\n",
       "    <tr>\n",
       "      <th>2</th>\n",
       "      <td>DNS Cache Snooping</td>\n",
       "      <td>5</td>\n",
       "      <td>1</td>\n",
       "      <td>5</td>\n",
       "      <td>5</td>\n",
       "      <td>3</td>\n",
       "      <td>4.00</td>\n",
       "      <td>medium</td>\n",
       "      <td>12.00</td>\n",
       "    </tr>\n",
       "    <tr>\n",
       "      <th>3</th>\n",
       "      <td>Apache mod_negotiations</td>\n",
       "      <td>1</td>\n",
       "      <td>1</td>\n",
       "      <td>2</td>\n",
       "      <td>1</td>\n",
       "      <td>1</td>\n",
       "      <td>1.25</td>\n",
       "      <td>low</td>\n",
       "      <td>1.25</td>\n",
       "    </tr>\n",
       "  </tbody>\n",
       "</table>\n",
       "</div>"
      ],
      "text/plain": [
       "                     Title  Threat Agent  Vulnerability Factors  Tech Impact  \\\n",
       "0          Shared Password             8                      8            8   \n",
       "1     SMB Sign Not Enabled             6                      8            7   \n",
       "2       DNS Cache Snooping             5                      1            5   \n",
       "3  Apache mod_negotiations             1                      1            2   \n",
       "\n",
       "   Biz Impact  Instances  Rating      Type  Instance Rating Product  \n",
       "0           8          1    8.00  critical                     8.00  \n",
       "1           7          9    7.00      high                    63.00  \n",
       "2           5          3    4.00    medium                    12.00  \n",
       "3           1          1    1.25       low                     1.25  "
      ]
     },
     "execution_count": 8,
     "metadata": {},
     "output_type": "execute_result"
    }
   ],
   "source": [
    "rts"
   ]
  },
  {
   "cell_type": "code",
   "execution_count": 9,
   "id": "6a544da4",
   "metadata": {},
   "outputs": [],
   "source": [
    "average_rating=rts['Instance Rating Product'].sum()/rts['Instances'].sum()"
   ]
  },
  {
   "cell_type": "code",
   "execution_count": 10,
   "id": "68ef7490",
   "metadata": {},
   "outputs": [],
   "source": [
    "\n",
    "\n",
    "# We thus found that the average lies on the medium range only so the average for the third graph would comprise of medium category"
   ]
  },
  {
   "cell_type": "code",
   "execution_count": 11,
   "id": "57242f87",
   "metadata": {},
   "outputs": [
    {
     "data": {
      "image/png": "[encoded data removed]",
      "text/plain": [
       "<Figure size 800x550 with 1 Axes>"
      ]
     },
     "metadata": {},
     "output_type": "display_data"
    },
    {
     "data": {
      "text/plain": [
       "<Figure size 800x550 with 0 Axes>"
      ]
     },
     "metadata": {},
     "output_type": "display_data"
    }
   ],
   "source": [
    "# Chart 1\n",
    "rts.set_index('Type').Instances.plot.bar(color=['maroon','red','#facf73','#8fce00'])\n",
    "plt.yticks([1,2,3,4,5,6,7,8,9,10])\n",
    "plt.title(\"Total Vulnerabilities By Rating\")\n",
    "plt.show()\n",
    "# plt.savefig(\"Network Penetration Chart 1\")"
   ]
  },
  {
   "cell_type": "code",
   "execution_count": 12,
   "id": "1f033963",
   "metadata": {},
   "outputs": [
    {
     "data": {
      "text/plain": [
       "['Solarize_Light2',\n",
       " '_classic_test_patch',\n",
       " '_mpl-gallery',\n",
       " '_mpl-gallery-nogrid',\n",
       " 'bmh',\n",
       " 'classic',\n",
       " 'dark_background',\n",
       " 'fast',\n",
       " 'fivethirtyeight',\n",
       " 'ggplot',\n",
       " 'grayscale',\n",
       " 'seaborn',\n",
       " 'seaborn-bright',\n",
       " 'seaborn-colorblind',\n",
       " 'seaborn-dark',\n",
       " 'seaborn-dark-palette',\n",
       " 'seaborn-darkgrid',\n",
       " 'seaborn-deep',\n",
       " 'seaborn-muted',\n",
       " 'seaborn-notebook',\n",
       " 'seaborn-paper',\n",
       " 'seaborn-pastel',\n",
       " 'seaborn-poster',\n",
       " 'seaborn-talk',\n",
       " 'seaborn-ticks',\n",
       " 'seaborn-white',\n",
       " 'seaborn-whitegrid',\n",
       " 'tableau-colorblind10']"
      ]
     },
     "execution_count": 12,
     "metadata": {},
     "output_type": "execute_result"
    }
   ],
   "source": [
    "# rts.set_index('Rating').Instances.plot(kind='pie')\n",
    "plt.style.available"
   ]
  },
  {
   "cell_type": "code",
   "execution_count": 13,
   "id": "423720ee",
   "metadata": {},
   "outputs": [
    {
     "name": "stdout",
     "output_type": "stream",
     "text": [
      "<class 'pandas.core.frame.DataFrame'>\n",
      "RangeIndex: 4 entries, 0 to 3\n",
      "Data columns (total 9 columns):\n",
      " #   Column                   Non-Null Count  Dtype  \n",
      "---  ------                   --------------  -----  \n",
      " 0   Title                    4 non-null      object \n",
      " 1   Threat Agent             4 non-null      int64  \n",
      " 2   Vulnerability Factors    4 non-null      int64  \n",
      " 3   Tech Impact              4 non-null      int64  \n",
      " 4   Biz Impact               4 non-null      int64  \n",
      " 5   Instances                4 non-null      int64  \n",
      " 6   Rating                   4 non-null      float64\n",
      " 7   Type                     4 non-null      object \n",
      " 8   Instance Rating Product  4 non-null      float64\n",
      "dtypes: float64(2), int64(5), object(2)\n",
      "memory usage: 416.0+ bytes\n"
     ]
    }
   ],
   "source": [
    "rts.info()"
   ]
  },
  {
   "cell_type": "code",
   "execution_count": 14,
   "id": "37575746",
   "metadata": {},
   "outputs": [
    {
     "data": {
      "image/png": "[encoded data removed]",
      "text/plain": [
       "<Figure size 400x400 with 1 Axes>"
      ]
     },
     "metadata": {},
     "output_type": "display_data"
    },
    {
     "data": {
      "text/plain": [
       "<Figure size 800x550 with 0 Axes>"
      ]
     },
     "metadata": {},
     "output_type": "display_data"
    }
   ],
   "source": [
    "# CHART 2\n",
    "plt.style.use('seaborn')\n",
    "plt.figure(figsize=(4,4))\n",
    "rts[['Biz Impact','Tech Impact','Vulnerability Factors','Threat Agent']].mean().plot(kind='barh')\n",
    "plt.xticks([1,2,3,4,5,6,7,8,9,10])\n",
    "plt.title(\"Average By Risk Factor\")\n",
    "plt.show()\n",
    "# plt.savefig(\"Network Penetration Chart 2\")"
   ]
  },
  {
   "cell_type": "code",
   "execution_count": null,
   "id": "29d6cea7",
   "metadata": {},
   "outputs": [],
   "source": []
  },
  {
   "cell_type": "code",
   "execution_count": 16,
   "id": "edd8552e",
   "metadata": {},
   "outputs": [
    {
     "data": {
      "image/png": "[encoded data removed]",
      "text/plain": [
       "<Figure size 800x550 with 1 Axes>"
      ]
     },
     "metadata": {},
     "output_type": "display_data"
    },
    {
     "data": {
      "text/plain": [
       "<Figure size 800x550 with 0 Axes>"
      ]
     },
     "metadata": {},
     "output_type": "display_data"
    }
   ],
   "source": [
    "# Creating new dataframe\n",
    "# Chart 3\n",
    "summary_dfi = pd.DataFrame({'Category': ['MEDIUM'],\n",
    "                           'Average Overall Rating': [100]})\n",
    "# summary_dfi.plot.pie(labels=summary_dfi['Category'], y='Average Overall Rating', startangle=90)\n",
    "plt.title(\"Average Overall Rating\")\n",
    "plt.pie(summary_dfi['Average Overall Rating'], colors=['#facf73'])\n",
    "plt.xlabel(\"MEDIUM\")\n",
    "plt.show()\n",
    "# plt.savefig(\"Network Penetration Chart 3\")"
   ]
  },
  {
   "cell_type": "code",
   "execution_count": null,
   "id": "d48a4b70",
   "metadata": {},
   "outputs": [],
   "source": [
    "\n"
   ]
  },
  {
   "cell_type": "code",
   "execution_count": null,
   "id": "225c65ce",
   "metadata": {},
   "outputs": [],
   "source": [
    "\n",
    "\n",
    "\n",
    "\n",
    "\n"
   ]
  },
  {
   "cell_type": "code",
   "execution_count": null,
   "id": "92a3aebc",
   "metadata": {},
   "outputs": [],
   "source": []
  }
 ],
 "metadata": {
  "kernelspec": {
   "display_name": "Python 3 (ipykernel)",
   "language": "python",
   "name": "python3"
  },
  "language_info": {
   "codemirror_mode": {
    "name": "ipython",
    "version": 3
   },
   "file_extension": ".py",
   "mimetype": "text/x-python",
   "name": "python",
   "nbconvert_exporter": "python",
   "pygments_lexer": "ipython3",
   "version": "3.9.13"
  }
 },
 "nbformat": 4,
 "nbformat_minor": 5
}
